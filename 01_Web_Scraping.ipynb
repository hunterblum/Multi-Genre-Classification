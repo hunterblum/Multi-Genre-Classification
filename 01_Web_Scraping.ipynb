{
 "cells": [
  {
   "attachments": {},
   "cell_type": "markdown",
   "metadata": {},
   "source": [
    "# Music Genre Classification via Text Mining\n",
    "\n",
    "USD ASD-509 Spring 2023 - Final Project \n",
    "\n",
    "Team 12\n",
    "\n",
    "Hunter Blum\n",
    "\n",
    "Kyle Dalope\n",
    "\n",
    "Nicholas Lee"
   ]
  },
  {
   "cell_type": "code",
   "execution_count": null,
   "metadata": {},
   "outputs": [],
   "source": [
    "# Required Packages\n",
    "\n",
    "from bs4 import BeautifulSoup\n",
    "from collections import defaultdict, Counter\n",
    "import os\n",
    "import random\n",
    "import re\n",
    "import requests\n",
    "import time"
   ]
  },
  {
   "attachments": {},
   "cell_type": "markdown",
   "metadata": {},
   "source": [
    "# URLs of Artist Pages"
   ]
  },
  {
   "cell_type": "code",
   "execution_count": null,
   "metadata": {},
   "outputs": [],
   "source": [
    "# Dictionary with Various Artists and AZLyrics Link\n",
    "artist_lyrics_dict = {\n",
    "    # Artist_Name : https://.../artist_name.html\n",
    "}"
   ]
  },
  {
   "attachments": {},
   "cell_type": "markdown",
   "metadata": {},
   "source": [
    "# Lyric URL Extraction"
   ]
  },
  {
   "cell_type": "code",
   "execution_count": null,
   "metadata": {},
   "outputs": [],
   "source": [
    "lyric_urls = defaultdict(list)\n",
    "\n",
    "# For-loop extracting lyric urls\n",
    "for artist, link in artist_lyrics_dict.items():\n",
    "    # Request page\n",
    "    req = requests.get(link)\n",
    "\n",
    "    # Set a random sleep time\n",
    "    time.sleep(5 + 10*random.random())\n",
    "\n",
    "    # Convert artist html page to text\n",
    "    artist_text_page = BeautifulSoup(\n",
    "        req.text, \"html.parser\")\n",
    "    \n",
    "    # Extract urls of lyric pages\n",
    "    lyric_pages = []\n",
    "    for url in artist_text_page.find_all(\"a\"):\n",
    "        lyric_pages.append(url.get(\"href\"))\n",
    "    \n",
    "    # Extract /lyrics portion of lyrics html\n",
    "    # Ex. matchs /lyrics/... .html\n",
    "    lyric_re = re.compile(\"\\/lyrics[\\w\\W]+\")\n",
    "\n",
    "    # Get clean urls\n",
    "    clean_urls = list(filter(\n",
    "        lambda x: match(\"\\/lyrics[\\w\\W]+\", str(x)), \n",
    "        lyric_pages\n",
    "    ))\n",
    "\n",
    "    # Add Web Address for full url\n",
    "    final_urls = [(\n",
    "        \"https://www.azlyrics.com\" + x\n",
    "    ) for x in clean_urls]\n",
    "\n",
    "    # Store links in dict\n",
    "    # Dict: key = Artist : Value = [lyric urls]\n",
    "    lyric_urls[artist] = final_urls"
   ]
  }
 ],
 "metadata": {
  "kernelspec": {
   "display_name": "Python 3",
   "language": "python",
   "name": "python3"
  },
  "language_info": {
   "name": "python",
   "version": "3.11.1"
  },
  "orig_nbformat": 4
 },
 "nbformat": 4,
 "nbformat_minor": 2
}
