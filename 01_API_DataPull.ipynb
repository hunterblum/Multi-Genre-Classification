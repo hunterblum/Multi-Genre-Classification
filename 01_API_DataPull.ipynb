{
 "cells": [
  {
   "attachments": {},
   "cell_type": "markdown",
   "metadata": {},
   "source": [
    "# Genius API Test"
   ]
  },
  {
   "attachments": {},
   "cell_type": "markdown",
   "metadata": {},
   "source": [
    "### Required libraries"
   ]
  },
  {
   "cell_type": "code",
   "execution_count": 1,
   "metadata": {},
   "outputs": [],
   "source": [
    "from dotenv import load_dotenv\n",
    "from lyricsgenius import Genius\n",
    "import os\n",
    "import pandas as pd"
   ]
  },
  {
   "attachments": {},
   "cell_type": "markdown",
   "metadata": {},
   "source": [
    "### Set API credentials"
   ]
  },
  {
   "cell_type": "code",
   "execution_count": 2,
   "metadata": {},
   "outputs": [],
   "source": [
    "# Set up API Creds\n",
    "load_dotenv()\n",
    "token = os.getenv(key='CLIENT_ACCESS_TOKEN')"
   ]
  },
  {
   "attachments": {},
   "cell_type": "markdown",
   "metadata": {},
   "source": [
    "### Function to get lyrics by genre (tag)"
   ]
  },
  {
   "cell_type": "code",
   "execution_count": 3,
   "metadata": {},
   "outputs": [],
   "source": [
    "def get_lyrics(genre, page_max, page = 1):\n",
    "    \n",
    "    # Loop to get lyrics by genre\n",
    "    while page < page_max:\n",
    "        res = genius.tag(genre, page=page)\n",
    "        for hit in res['hits']:\n",
    "            # Get song lyrics\n",
    "            song_lyrics = genius.lyrics(song_url=hit['url'])\n",
    "\n",
    "            # Get rid of extra info\n",
    "            index = song_lyrics.find('\\n')\n",
    "            song_lyrics = song_lyrics[index+1:]\n",
    "            lyrics.append(song_lyrics)\n",
    "\n",
    "            # Get title\n",
    "            title = hit['title']\n",
    "            titles.append(title)\n",
    "\n",
    "            # Get artists\n",
    "            artist = hit['artists']\n",
    "            artists.append(artist)\n",
    "\n",
    "            # Set genre \n",
    "            genres.append(genre)\n",
    "\n",
    "        page = res['next_page']"
   ]
  },
  {
   "attachments": {},
   "cell_type": "markdown",
   "metadata": {},
   "source": [
    "### Loop through genres to get data\n",
    "Note we can currently pull 50 pages (page_max = 51) with 20 songs per page. We can add 50 in a loop to the 'page' variable in the 'get_lyrics' function, however ~1,000 songs a genre should suffice for now. "
   ]
  },
  {
   "cell_type": "code",
   "execution_count": 4,
   "metadata": {},
   "outputs": [
    {
     "name": "stdout",
     "output_type": "stream",
     "text": [
      "Pulling country lyrics...\n",
      "Pulling rock lyrics...\n",
      "Pulling pop lyrics...\n",
      "Pulling r-b lyrics...\n"
     ]
    }
   ],
   "source": [
    "# Set up API Access\n",
    "genius = Genius(token, timeout=10, retries=3)\n",
    "\n",
    "# Initalize lists for function\n",
    "lyrics = []\n",
    "titles = []\n",
    "artists = []\n",
    "genres = []\n",
    "\n",
    "# Genres \n",
    "# Check out - https://genius.com/Genius-tags-music-genres-international-annotated for other tags\n",
    "tags = ['country', 'rock', 'pop', 'r-b', 'rap']\n",
    "\n",
    "# Set how many pages to pull\n",
    "page_max = 3\n",
    "\n",
    "# Loop through our genres\n",
    "for genre in tags:\n",
    "    print(\"Pulling\", genre, \"lyrics...\")\n",
    "    get_lyrics(genre=genre, page_max=page_max)"
   ]
  },
  {
   "attachments": {},
   "cell_type": "markdown",
   "metadata": {},
   "source": [
    "### Put everything in DF"
   ]
  },
  {
   "cell_type": "code",
   "execution_count": 25,
   "metadata": {},
   "outputs": [
    {
     "data": {
      "text/html": [
       "<div>\n",
       "<style scoped>\n",
       "    .dataframe tbody tr th:only-of-type {\n",
       "        vertical-align: middle;\n",
       "    }\n",
       "\n",
       "    .dataframe tbody tr th {\n",
       "        vertical-align: top;\n",
       "    }\n",
       "\n",
       "    .dataframe thead th {\n",
       "        text-align: right;\n",
       "    }\n",
       "</style>\n",
       "<table border=\"1\" class=\"dataframe\">\n",
       "  <thead>\n",
       "    <tr style=\"text-align: right;\">\n",
       "      <th></th>\n",
       "      <th>artist</th>\n",
       "      <th>title</th>\n",
       "      <th>lyrics</th>\n",
       "      <th>genre</th>\n",
       "    </tr>\n",
       "  </thead>\n",
       "  <tbody>\n",
       "    <tr>\n",
       "      <th>175</th>\n",
       "      <td>[Kendrick Lamar]</td>\n",
       "      <td>​m.A.A.d city</td>\n",
       "      <td>[Refrain: Kendrick Lamar &amp; ScHoolboy Q]\\nIf Pi...</td>\n",
       "      <td>rap</td>\n",
       "    </tr>\n",
       "    <tr>\n",
       "      <th>176</th>\n",
       "      <td>[Eminem]</td>\n",
       "      <td>Killshot</td>\n",
       "      <td>You sound like a bitch, bitch\\nShut the fuck u...</td>\n",
       "      <td>rap</td>\n",
       "    </tr>\n",
       "    <tr>\n",
       "      <th>177</th>\n",
       "      <td>[Kanye West]</td>\n",
       "      <td>Mercy</td>\n",
       "      <td>Well, it is a weepin' and a moanin' and a gnas...</td>\n",
       "      <td>rap</td>\n",
       "    </tr>\n",
       "    <tr>\n",
       "      <th>178</th>\n",
       "      <td>[Drake]</td>\n",
       "      <td>Hotline Bling</td>\n",
       "      <td>You used to call me on my\\nYou used to, you us...</td>\n",
       "      <td>rap</td>\n",
       "    </tr>\n",
       "    <tr>\n",
       "      <th>179</th>\n",
       "      <td>[XXXTENTACION]</td>\n",
       "      <td>Jocelyn Flores</td>\n",
       "      <td>I know you so well, so well\\nI mean, I can do ...</td>\n",
       "      <td>rap</td>\n",
       "    </tr>\n",
       "  </tbody>\n",
       "</table>\n",
       "</div>"
      ],
      "text/plain": [
       "               artist           title  \\\n",
       "175  [Kendrick Lamar]   ​m.A.A.d city   \n",
       "176          [Eminem]        Killshot   \n",
       "177      [Kanye West]           Mercy   \n",
       "178           [Drake]   Hotline Bling   \n",
       "179    [XXXTENTACION]  Jocelyn Flores   \n",
       "\n",
       "                                                lyrics genre  \n",
       "175  [Refrain: Kendrick Lamar & ScHoolboy Q]\\nIf Pi...   rap  \n",
       "176  You sound like a bitch, bitch\\nShut the fuck u...   rap  \n",
       "177  Well, it is a weepin' and a moanin' and a gnas...   rap  \n",
       "178  You used to call me on my\\nYou used to, you us...   rap  \n",
       "179  I know you so well, so well\\nI mean, I can do ...   rap  "
      ]
     },
     "execution_count": 25,
     "metadata": {},
     "output_type": "execute_result"
    }
   ],
   "source": [
    "df = pd.DataFrame(list(zip(artists, titles, lyrics, genres)),\n",
    "                  columns=['artist', 'title', 'lyrics', 'genre'])\n",
    "df.head()"
   ]
  },
  {
   "attachments": {},
   "cell_type": "markdown",
   "metadata": {},
   "source": [
    "### Read out DF"
   ]
  },
  {
   "cell_type": "code",
   "execution_count": 31,
   "metadata": {},
   "outputs": [],
   "source": [
    "df.to_csv('data/lyrics.csv.gz', compression='gzip')"
   ]
  }
 ],
 "metadata": {
  "kernelspec": {
   "display_name": "base",
   "language": "python",
   "name": "python3"
  },
  "language_info": {
   "codemirror_mode": {
    "name": "ipython",
    "version": 3
   },
   "file_extension": ".py",
   "mimetype": "text/x-python",
   "name": "python",
   "nbconvert_exporter": "python",
   "pygments_lexer": "ipython3",
   "version": "3.9.12"
  },
  "orig_nbformat": 4
 },
 "nbformat": 4,
 "nbformat_minor": 2
}
