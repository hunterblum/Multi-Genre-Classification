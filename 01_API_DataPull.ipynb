{
 "cells": [
  {
   "attachments": {},
   "cell_type": "markdown",
   "metadata": {},
   "source": [
    "# Genius API Test"
   ]
  },
  {
   "cell_type": "code",
   "execution_count": 1,
   "metadata": {},
   "outputs": [],
   "source": [
    "import os\n",
    "from dotenv import load_dotenv\n",
    "from lyricsgenius import Genius"
   ]
  },
  {
   "cell_type": "code",
   "execution_count": 2,
   "metadata": {},
   "outputs": [],
   "source": [
    "# Set up API Creds\n",
    "load_dotenv()\n",
    "token = os.getenv(key='CLIENT_ACCESS_TOKEN')"
   ]
  },
  {
   "cell_type": "code",
   "execution_count": 11,
   "metadata": {},
   "outputs": [],
   "source": [
    "# this gets the lyrics of all the songs that have the pop tag.\n",
    "genius = Genius(token)\n",
    "\n",
    "# Set up page number and empty lists\n",
    "page = 1\n",
    "page_max = 3\n",
    "lyrics = []\n",
    "artists = []\n",
    "titles = []\n",
    "genres = []\n",
    "\n",
    "# Main tags 'country', 'r-b', 'pop', 'rock'\n",
    "# Check out https://genius.com/Genius-tags-music-genres-international-annotated for other tags\n",
    "tag = 'country'\n",
    "\n",
    "\n",
    "\n",
    "while page < page_max:\n",
    "    print(\"Pulling page\", page, \"lyrics...\")\n",
    "        # Need try and except block to prevent timeout errors\n",
    "    try:\n",
    "        res = genius.tag(tag, page=page)\n",
    "        for hit in res['hits']:\n",
    "\n",
    "            # Get lyrics\n",
    "            song_lyrics = genius.lyrics(song_url=hit['url'])\n",
    "                \n",
    "            # Get rid of extra info\n",
    "            index = song_lyrics.find('\\n')\n",
    "            song_lyrics = song_lyrics[index+1:]\n",
    "            lyrics.append(song_lyrics)\n",
    "\n",
    "\n",
    "            # Get title\n",
    "            title = hit['title']\n",
    "            titles.append(title)\n",
    "\n",
    "            # Get artists\n",
    "            artist = hit['artists']\n",
    "            artists.append(artist)\n",
    "\n",
    "            # Set genre \n",
    "            genres.append(tag)\n",
    "\n",
    "\n",
    "            # Go to the next page\n",
    "            page = res['next_page']\n",
    "                \n",
    "        break \n",
    "    except:\n",
    "        pass"
   ]
  },
  {
   "cell_type": "code",
   "execution_count": 10,
   "metadata": {},
   "outputs": [
    {
     "data": {
      "text/html": [
       "<div>\n",
       "<style scoped>\n",
       "    .dataframe tbody tr th:only-of-type {\n",
       "        vertical-align: middle;\n",
       "    }\n",
       "\n",
       "    .dataframe tbody tr th {\n",
       "        vertical-align: top;\n",
       "    }\n",
       "\n",
       "    .dataframe thead th {\n",
       "        text-align: right;\n",
       "    }\n",
       "</style>\n",
       "<table border=\"1\" class=\"dataframe\">\n",
       "  <thead>\n",
       "    <tr style=\"text-align: right;\">\n",
       "      <th></th>\n",
       "      <th>artist</th>\n",
       "      <th>title</th>\n",
       "      <th>lyrics</th>\n",
       "    </tr>\n",
       "    <tr>\n",
       "      <th>genre</th>\n",
       "      <th></th>\n",
       "      <th></th>\n",
       "      <th></th>\n",
       "    </tr>\n",
       "  </thead>\n",
       "  <tbody>\n",
       "    <tr>\n",
       "      <th>country</th>\n",
       "      <td>24</td>\n",
       "      <td>24</td>\n",
       "      <td>24</td>\n",
       "    </tr>\n",
       "    <tr>\n",
       "      <th>pop</th>\n",
       "      <td>20</td>\n",
       "      <td>20</td>\n",
       "      <td>20</td>\n",
       "    </tr>\n",
       "    <tr>\n",
       "      <th>r-b</th>\n",
       "      <td>27</td>\n",
       "      <td>27</td>\n",
       "      <td>27</td>\n",
       "    </tr>\n",
       "    <tr>\n",
       "      <th>rock</th>\n",
       "      <td>11</td>\n",
       "      <td>11</td>\n",
       "      <td>11</td>\n",
       "    </tr>\n",
       "  </tbody>\n",
       "</table>\n",
       "</div>"
      ],
      "text/plain": [
       "         artist  title  lyrics\n",
       "genre                         \n",
       "country      24     24      24\n",
       "pop          20     20      20\n",
       "r-b          27     27      27\n",
       "rock         11     11      11"
      ]
     },
     "execution_count": 10,
     "metadata": {},
     "output_type": "execute_result"
    }
   ],
   "source": [
    "import pandas as pd\n",
    "df = pd.DataFrame(list(zip(artists, titles, lyrics, genres)),\n",
    "                  columns=['artist', 'title', 'lyrics', 'genre'])\n",
    "df"
   ]
  }
 ],
 "metadata": {
  "kernelspec": {
   "display_name": "base",
   "language": "python",
   "name": "python3"
  },
  "language_info": {
   "codemirror_mode": {
    "name": "ipython",
    "version": 3
   },
   "file_extension": ".py",
   "mimetype": "text/x-python",
   "name": "python",
   "nbconvert_exporter": "python",
   "pygments_lexer": "ipython3",
   "version": "3.9.13"
  },
  "orig_nbformat": 4
 },
 "nbformat": 4,
 "nbformat_minor": 2
}
