{
 "cells": [
  {
   "attachments": {},
   "cell_type": "markdown",
   "metadata": {},
   "source": [
    "# Notebook 1 - Pull from Genius API"
   ]
  },
  {
   "attachments": {},
   "cell_type": "markdown",
   "metadata": {},
   "source": [
    "### Required libraries"
   ]
  },
  {
   "cell_type": "code",
   "execution_count": 1,
   "metadata": {},
   "outputs": [],
   "source": [
    "from dotenv import load_dotenv\n",
    "from lyricsgenius import Genius\n",
    "import os\n",
    "import pandas as pd"
   ]
  },
  {
   "attachments": {},
   "cell_type": "markdown",
   "metadata": {},
   "source": [
    "### Set API credentials"
   ]
  },
  {
   "cell_type": "code",
   "execution_count": 2,
   "metadata": {},
   "outputs": [],
   "source": [
    "# Set up API Creds\n",
    "load_dotenv()\n",
    "token = os.getenv(key='CLIENT_ACCESS_TOKEN')"
   ]
  },
  {
   "attachments": {},
   "cell_type": "markdown",
   "metadata": {},
   "source": [
    "### Function to get lyrics by genre (tag)"
   ]
  },
  {
   "cell_type": "code",
   "execution_count": 3,
   "metadata": {},
   "outputs": [],
   "source": [
    "def get_lyrics(genre, page_max = 51, page_min = 1):\n",
    "    \n",
    "    # Loop to get lyrics by genre\n",
    "    for page in range(page_min,page_max):\n",
    "        try:\n",
    "            res = genius.tag(genre, page=page)\n",
    "            for hit in res['hits']:\n",
    "                # Get song lyrics\n",
    "                song_lyrics = genius.lyrics(song_url=hit['url'])\n",
    "\n",
    "                # Get rid of extra info\n",
    "                index = song_lyrics.find('\\n')\n",
    "                song_lyrics = song_lyrics[index+1:]\n",
    "                lyrics.append(song_lyrics)\n",
    "\n",
    "                # Get title\n",
    "                title = hit['title']\n",
    "                titles.append(title)\n",
    "\n",
    "                # Get artists\n",
    "                artist = hit['artists']\n",
    "                artists.append(artist)\n",
    "\n",
    "                # Set genre \n",
    "                genres.append(genre)\n",
    "        except:\n",
    "            pass\n"
   ]
  },
  {
   "attachments": {},
   "cell_type": "markdown",
   "metadata": {},
   "source": [
    "### Loop through genres to get data\n",
    "Note we can currently pull 50 pages (page_max = 51) with 20 songs per page. We can add 50 in a loop to the 'page' variable in the 'get_lyrics' function, however ~1,000 songs a genre should suffice for now. "
   ]
  },
  {
   "cell_type": "code",
   "execution_count": 4,
   "metadata": {},
   "outputs": [
    {
     "name": "stdout",
     "output_type": "stream",
     "text": [
      "Pulling country lyrics...\n",
      "Couldn't find the lyrics section. Please report this if the song has lyrics.\n",
      "Song URL: https://genius.com/Bradley-cooper-out-of-time-lyrics\n",
      "Pulling rock lyrics...\n",
      "Pulling pop lyrics...\n",
      "Pulling r-b lyrics...\n",
      "Pulling rap lyrics...\n"
     ]
    }
   ],
   "source": [
    "# Set up API Access\n",
    "genius = Genius(token, timeout=10, retries=3)\n",
    "\n",
    "# Initalize lists for function\n",
    "lyrics = []\n",
    "titles = []\n",
    "artists = []\n",
    "genres = []\n",
    "\n",
    "# Genres \n",
    "# Check out - https://genius.com/Genius-tags-music-genres-international-annotated for other tags\n",
    "tags = ['country', 'rock', 'pop', 'r-b', 'rap']\n",
    "\n",
    "# Set how many pages to pull\n",
    "page_max = 51\n",
    "\n",
    "# Loop through our genres\n",
    "for genre in tags:\n",
    "    print(\"Pulling\", genre, \"lyrics...\")\n",
    "    get_lyrics(genre=genre, page_max=page_max)"
   ]
  },
  {
   "attachments": {},
   "cell_type": "markdown",
   "metadata": {},
   "source": [
    "### Put everything in DF"
   ]
  },
  {
   "cell_type": "code",
   "execution_count": 6,
   "metadata": {},
   "outputs": [
    {
     "data": {
      "text/html": [
       "<div>\n",
       "<style scoped>\n",
       "    .dataframe tbody tr th:only-of-type {\n",
       "        vertical-align: middle;\n",
       "    }\n",
       "\n",
       "    .dataframe tbody tr th {\n",
       "        vertical-align: top;\n",
       "    }\n",
       "\n",
       "    .dataframe thead th {\n",
       "        text-align: right;\n",
       "    }\n",
       "</style>\n",
       "<table border=\"1\" class=\"dataframe\">\n",
       "  <thead>\n",
       "    <tr style=\"text-align: right;\">\n",
       "      <th></th>\n",
       "      <th>artist</th>\n",
       "      <th>title</th>\n",
       "      <th>lyrics</th>\n",
       "      <th>genre</th>\n",
       "    </tr>\n",
       "  </thead>\n",
       "  <tbody>\n",
       "    <tr>\n",
       "      <th>0</th>\n",
       "      <td>[Lil Nas X]</td>\n",
       "      <td>Old Town Road (Remix)</td>\n",
       "      <td>Oh, oh-oh\\nOh\\n\\n[Chorus: Billy Ray Cyrus]\\nYe...</td>\n",
       "      <td>country</td>\n",
       "    </tr>\n",
       "    <tr>\n",
       "      <th>1</th>\n",
       "      <td>[Taylor Swift]</td>\n",
       "      <td>All Too Well (10 Minute Version) (Taylor's Ver...</td>\n",
       "      <td>I walked through the door with you, the air wa...</td>\n",
       "      <td>country</td>\n",
       "    </tr>\n",
       "    <tr>\n",
       "      <th>2</th>\n",
       "      <td>[Taylor Swift]</td>\n",
       "      <td>All Too Well (10 Minute Version) (Taylor's Ver...</td>\n",
       "      <td>I walked through the door with you, the air wa...</td>\n",
       "      <td>country</td>\n",
       "    </tr>\n",
       "    <tr>\n",
       "      <th>3</th>\n",
       "      <td>[Lil Nas X]</td>\n",
       "      <td>Old Town Road</td>\n",
       "      <td>Yeah, I'm gonna take my horse to the old town ...</td>\n",
       "      <td>country</td>\n",
       "    </tr>\n",
       "    <tr>\n",
       "      <th>4</th>\n",
       "      <td>[Taylor Swift]</td>\n",
       "      <td>Lover</td>\n",
       "      <td>We could leave the Christmas lights up 'til Ja...</td>\n",
       "      <td>country</td>\n",
       "    </tr>\n",
       "  </tbody>\n",
       "</table>\n",
       "</div>"
      ],
      "text/plain": [
       "           artist                                              title  \\\n",
       "0     [Lil Nas X]                              Old Town Road (Remix)   \n",
       "1  [Taylor Swift]  All Too Well (10 Minute Version) (Taylor's Ver...   \n",
       "2  [Taylor Swift]  All Too Well (10 Minute Version) (Taylor's Ver...   \n",
       "3     [Lil Nas X]                                      Old Town Road   \n",
       "4  [Taylor Swift]                                              Lover   \n",
       "\n",
       "                                              lyrics    genre  \n",
       "0  Oh, oh-oh\\nOh\\n\\n[Chorus: Billy Ray Cyrus]\\nYe...  country  \n",
       "1  I walked through the door with you, the air wa...  country  \n",
       "2  I walked through the door with you, the air wa...  country  \n",
       "3  Yeah, I'm gonna take my horse to the old town ...  country  \n",
       "4  We could leave the Christmas lights up 'til Ja...  country  "
      ]
     },
     "execution_count": 6,
     "metadata": {},
     "output_type": "execute_result"
    }
   ],
   "source": [
    "df = pd.DataFrame(list(zip(artists, titles, lyrics, genres)),\n",
    "                  columns=['artist', 'title', 'lyrics', 'genre'])\n",
    "df.head()"
   ]
  },
  {
   "attachments": {},
   "cell_type": "markdown",
   "metadata": {},
   "source": [
    "### Read out DF"
   ]
  },
  {
   "cell_type": "code",
   "execution_count": 8,
   "metadata": {},
   "outputs": [],
   "source": [
    "df.to_csv('data/lyrics.csv.gz', compression='gzip')"
   ]
  }
 ],
 "metadata": {
  "kernelspec": {
   "display_name": "base",
   "language": "python",
   "name": "python3"
  },
  "language_info": {
   "codemirror_mode": {
    "name": "ipython",
    "version": 3
   },
   "file_extension": ".py",
   "mimetype": "text/x-python",
   "name": "python",
   "nbconvert_exporter": "python",
   "pygments_lexer": "ipython3",
   "version": "3.9.13"
  },
  "orig_nbformat": 4
 },
 "nbformat": 4,
 "nbformat_minor": 2
}
