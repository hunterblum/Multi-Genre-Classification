{
 "cells": [
  {
   "attachments": {},
   "cell_type": "markdown",
   "metadata": {},
   "source": [
    "# Assignment 6.2: Preparing Data for Final Team Project\n",
    "\n",
    "## ADS509 Summer 2023\n",
    "### Team members: Hunter Blum, Nicholas Lee, Kyle Esteban Dalope"
   ]
  },
  {
   "attachments": {},
   "cell_type": "markdown",
   "metadata": {},
   "source": [
    "All the codes provided for Assignment 6.2 were used from the \"03_EDA.ipynb\" in Team 12's repository. For more context regarding how the team pulled the data and pre-processed it, please refer to the \"02_PreProcessing.ipynb\" for details. "
   ]
  },
  {
   "cell_type": "code",
   "execution_count": 4,
   "metadata": {},
   "outputs": [],
   "source": [
    "# Import packages\n",
    "\n",
    "# NOTE. for wordcloud to work - Python ver. 3.9.5 was used\n",
    "from collections import Counter\n",
    "# Pandas version 1.4.4\n",
    "import pandas as pd\n",
    "from matplotlib import pyplot as plt\n",
    "import seaborn as sns\n",
    "from wordcloud import WordCloud\n",
    "from ast import literal_eval"
   ]
  },
  {
   "cell_type": "code",
   "execution_count": 8,
   "metadata": {},
   "outputs": [
    {
     "data": {
      "text/html": [
       "<div>\n",
       "<style scoped>\n",
       "    .dataframe tbody tr th:only-of-type {\n",
       "        vertical-align: middle;\n",
       "    }\n",
       "\n",
       "    .dataframe tbody tr th {\n",
       "        vertical-align: top;\n",
       "    }\n",
       "\n",
       "    .dataframe thead th {\n",
       "        text-align: right;\n",
       "    }\n",
       "</style>\n",
       "<table border=\"1\" class=\"dataframe\">\n",
       "  <thead>\n",
       "    <tr style=\"text-align: right;\">\n",
       "      <th></th>\n",
       "      <th>artist</th>\n",
       "      <th>title</th>\n",
       "      <th>lyrics</th>\n",
       "      <th>genre</th>\n",
       "      <th>tokens</th>\n",
       "      <th>lyrics_clean</th>\n",
       "    </tr>\n",
       "  </thead>\n",
       "  <tbody>\n",
       "    <tr>\n",
       "      <th>0</th>\n",
       "      <td>Taylor Swift</td>\n",
       "      <td>​betty</td>\n",
       "      <td>Betty, I won't make assumptions\\nAbout why you...</td>\n",
       "      <td>[country]</td>\n",
       "      <td>[betty, make, assumptions, switched, homeroom,...</td>\n",
       "      <td>betty make assumptions switched homeroom think...</td>\n",
       "    </tr>\n",
       "    <tr>\n",
       "      <th>1</th>\n",
       "      <td>John Denver</td>\n",
       "      <td>Take Me Home, Country Roads</td>\n",
       "      <td>Almost Heaven, West Virginia\\nBlue Ridge Mount...</td>\n",
       "      <td>[country]</td>\n",
       "      <td>[almost, heaven, west, virginia, blue, ridge, ...</td>\n",
       "      <td>almost heaven west virginia blue ridge mountai...</td>\n",
       "    </tr>\n",
       "    <tr>\n",
       "      <th>2</th>\n",
       "      <td>Post Malone</td>\n",
       "      <td>Feeling Whitney</td>\n",
       "      <td>I've been looking for someone...\\nOoh, ooh, oo...</td>\n",
       "      <td>[country]</td>\n",
       "      <td>[looking, someone, ooh, ooh, ooh, ooh, ooh, oo...</td>\n",
       "      <td>looking someone ooh ooh ooh ooh ooh oohooh ooh...</td>\n",
       "    </tr>\n",
       "    <tr>\n",
       "      <th>3</th>\n",
       "      <td>Cam</td>\n",
       "      <td>Burning House</td>\n",
       "      <td>\\n[Verse 1]\\nI had a dream about a burning hou...</td>\n",
       "      <td>[country]</td>\n",
       "      <td>[dream, burning, house, stuck, inside, get, la...</td>\n",
       "      <td>dream burning house stuck inside get laid besi...</td>\n",
       "    </tr>\n",
       "    <tr>\n",
       "      <th>4</th>\n",
       "      <td>Johnny Cash</td>\n",
       "      <td>Folsom Prison Blues</td>\n",
       "      <td>I hear the train a-comin', it's rolling 'round...</td>\n",
       "      <td>[country]</td>\n",
       "      <td>[hear, train, acomin, rolling, round, bend, ai...</td>\n",
       "      <td>hear train acomin rolling round bend aint seen...</td>\n",
       "    </tr>\n",
       "  </tbody>\n",
       "</table>\n",
       "</div>"
      ],
      "text/plain": [
       "         artist                        title  \\\n",
       "0  Taylor Swift                       ​betty   \n",
       "1   John Denver  Take Me Home, Country Roads   \n",
       "2   Post Malone              Feeling Whitney   \n",
       "3           Cam                Burning House   \n",
       "4   Johnny Cash          Folsom Prison Blues   \n",
       "\n",
       "                                              lyrics      genre  \\\n",
       "0  Betty, I won't make assumptions\\nAbout why you...  [country]   \n",
       "1  Almost Heaven, West Virginia\\nBlue Ridge Mount...  [country]   \n",
       "2  I've been looking for someone...\\nOoh, ooh, oo...  [country]   \n",
       "3  \\n[Verse 1]\\nI had a dream about a burning hou...  [country]   \n",
       "4  I hear the train a-comin', it's rolling 'round...  [country]   \n",
       "\n",
       "                                              tokens  \\\n",
       "0  [betty, make, assumptions, switched, homeroom,...   \n",
       "1  [almost, heaven, west, virginia, blue, ridge, ...   \n",
       "2  [looking, someone, ooh, ooh, ooh, ooh, ooh, oo...   \n",
       "3  [dream, burning, house, stuck, inside, get, la...   \n",
       "4  [hear, train, acomin, rolling, round, bend, ai...   \n",
       "\n",
       "                                        lyrics_clean  \n",
       "0  betty make assumptions switched homeroom think...  \n",
       "1  almost heaven west virginia blue ridge mountai...  \n",
       "2  looking someone ooh ooh ooh ooh ooh oohooh ooh...  \n",
       "3  dream burning house stuck inside get laid besi...  \n",
       "4  hear train acomin rolling round bend aint seen...  "
      ]
     },
     "execution_count": 8,
     "metadata": {},
     "output_type": "execute_result"
    }
   ],
   "source": [
    "# Read in preprocessed data\n",
    "preproc_df = pd.read_csv(\"../data/genre_prepped.csv.gz\", compression = \"gzip\",\n",
    "                         converters = {\"tokens\": literal_eval,\n",
    "                                       \"genre\": literal_eval})\n",
    "\n",
    "# drop unnecessary columns (index and unnamed index columns)\n",
    "preproc_df = preproc_df.drop(preproc_df.columns[0:2], axis = 1)\n",
    "\n",
    "# Sample Table\n",
    "preproc_df.head(5)"
   ]
  },
  {
   "cell_type": "code",
   "execution_count": 9,
   "metadata": {},
   "outputs": [],
   "source": [
    "preproc_df_ungrouped = preproc_df.assign(genre = preproc_df['genre']).explode('genre')"
   ]
  },
  {
   "attachments": {},
   "cell_type": "markdown",
   "metadata": {},
   "source": [
    "## Descriptive Statistics"
   ]
  },
  {
   "cell_type": "code",
   "execution_count": 10,
   "metadata": {},
   "outputs": [],
   "source": [
    "def descriptive_stats(tokens, num_tokens = 5, verbose=True) :\n",
    "   \n",
    "    \n",
    "    num_tokens = len(tokens) #length of tokens\n",
    "    num_unique_tokens = (len(set(tokens))) #number of unique tokens\n",
    "    lexical_diversity = (num_unique_tokens / num_tokens) #ratio of different unique word stems (types) to the total number of words (tokens).\n",
    "    num_characters = sum(len(token) for token in tokens) #length of the string of tokens\n",
    "    \n",
    "    if verbose :        \n",
    "        print(f\"There are {num_tokens} tokens in the data.\")\n",
    "        print(f\"There are {num_unique_tokens} unique tokens in the data.\")\n",
    "        print(f\"There are {num_characters} characters in the data.\")\n",
    "        print(f\"The lexical diversity is {lexical_diversity:.3f} in the data.\")\n",
    "    \n",
    "        # print the five most common tokens\n",
    "        print(Counter(tokens).most_common(5)) #p. 16 of textbook\n",
    "        \n",
    "    return([num_tokens, num_unique_tokens,\n",
    "            lexical_diversity,\n",
    "            num_characters])"
   ]
  },
  {
   "cell_type": "code",
   "execution_count": 11,
   "metadata": {},
   "outputs": [
    {
     "name": "stdout",
     "output_type": "stream",
     "text": [
      "Genre: country\n",
      "There are 156743 tokens in the data.\n",
      "There are 16760 unique tokens in the data.\n",
      "There are 778715 characters in the data.\n",
      "The lexical diversity is 0.107 in the data.\n",
      "[('know', 1660), ('****', 1450), ('love', 1316), ('got', 1196), ('might', 1193)]\n",
      "\n",
      "Genre: rock\n",
      "There are 149352 tokens in the data.\n",
      "There are 15431 unique tokens in the data.\n",
      "There are 751756 characters in the data.\n",
      "The lexical diversity is 0.103 in the data.\n",
      "[('know', 1800), ('****', 1787), ('love', 1452), ('might', 1139), ('got', 1122)]\n",
      "\n",
      "Genre: pop\n",
      "There are 194736 tokens in the data.\n",
      "There are 19505 unique tokens in the data.\n",
      "There are 953951 characters in the data.\n",
      "The lexical diversity is 0.100 in the data.\n",
      "[('****', 3460), ('know', 2659), ('love', 2434), ('got', 1831), ('get', 1540)]\n",
      "\n",
      "Genre: r-b\n",
      "There are 213327 tokens in the data.\n",
      "There are 17143 unique tokens in the data.\n",
      "There are 1031393 characters in the data.\n",
      "The lexical diversity is 0.080 in the data.\n",
      "[('****', 6146), ('know', 3949), ('love', 3174), ('got', 2571), ('baby', 2102)]\n",
      "\n",
      "Genre: rap\n",
      "There are 331353 tokens in the data.\n",
      "There are 31702 unique tokens in the data.\n",
      "There are 1619952 characters in the data.\n",
      "The lexical diversity is 0.096 in the data.\n",
      "[('****', 18567), ('got', 4081), ('know', 3818), ('get', 3362), ('aint', 2487)]\n",
      "\n"
     ]
    }
   ],
   "source": [
    "# Descriptive stats calculated for each all genres\n",
    "\n",
    "# Iterate over each genre and calculate descriptive statistics\n",
    "for genre in preproc_df_ungrouped[\"genre\"].unique():\n",
    "    genre_tokens = [token for tokens in preproc_df_ungrouped.loc[preproc_df_ungrouped[\"genre\"] == genre, \"tokens\"] for token in tokens]\n",
    "    print(f\"Genre: {genre}\")\n",
    "    descriptive_stats(genre_tokens)\n",
    "    print()"
   ]
  }
 ],
 "metadata": {
  "kernelspec": {
   "display_name": "Python 3",
   "language": "python",
   "name": "python3"
  },
  "language_info": {
   "codemirror_mode": {
    "name": "ipython",
    "version": 3
   },
   "file_extension": ".py",
   "mimetype": "text/x-python",
   "name": "python",
   "nbconvert_exporter": "python",
   "pygments_lexer": "ipython3",
   "version": "3.11.1"
  },
  "orig_nbformat": 4,
  "vscode": {
   "interpreter": {
    "hash": "aee8b7b246df8f9039afb4144a1f6fd8d2ca17a180786b69acc140d282b71a49"
   }
  }
 },
 "nbformat": 4,
 "nbformat_minor": 2
}
