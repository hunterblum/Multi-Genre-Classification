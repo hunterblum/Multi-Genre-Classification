{
 "cells": [
  {
   "attachments": {},
   "cell_type": "markdown",
   "metadata": {},
   "source": [
    "# Notebook 4 - Modeling\n",
    "\n",
    "This notebook will perform the splitting of data, training and testing the selected models, and identifying the final model to be selected."
   ]
  },
  {
   "cell_type": "code",
   "execution_count": 1,
   "metadata": {},
   "outputs": [],
   "source": [
    "import numpy as np\n",
    "import pandas as pd\n",
    "from sklearn.preprocessing import MultiLabelBinarizer\n",
    "from sklearn.model_selection import train_test_split\n",
    "from sklearn.feature_extraction.text import TfidfVectorizer\n",
    "from ast import literal_eval\n",
    "from scipy import sparse\n",
    "from sklearn.multioutput import MultiOutputClassifier\n",
    "from sklearn.neighbors import KNeighborsClassifier\n",
    "from sklearn.model_selection import RandomizedSearchCV, GridSearchCV\n",
    "from sklearn.pipeline import Pipeline\n",
    "import pickle\n",
    "from sklearn.metrics import ConfusionMatrixDisplay, confusion_matrix\n",
    "import matplotlib.pyplot as plt\n",
    "from sklearn.metrics import hamming_loss, make_scorer\n",
    "from sklearn.linear_model import LogisticRegression"
   ]
  },
  {
   "cell_type": "code",
   "execution_count": 2,
   "metadata": {},
   "outputs": [
    {
     "data": {
      "text/html": [
       "<div>\n",
       "<style scoped>\n",
       "    .dataframe tbody tr th:only-of-type {\n",
       "        vertical-align: middle;\n",
       "    }\n",
       "\n",
       "    .dataframe tbody tr th {\n",
       "        vertical-align: top;\n",
       "    }\n",
       "\n",
       "    .dataframe thead th {\n",
       "        text-align: right;\n",
       "    }\n",
       "</style>\n",
       "<table border=\"1\" class=\"dataframe\">\n",
       "  <thead>\n",
       "    <tr style=\"text-align: right;\">\n",
       "      <th></th>\n",
       "      <th>artist</th>\n",
       "      <th>title</th>\n",
       "      <th>lyrics</th>\n",
       "      <th>genre</th>\n",
       "      <th>tokens</th>\n",
       "      <th>lyrics_clean</th>\n",
       "    </tr>\n",
       "  </thead>\n",
       "  <tbody>\n",
       "    <tr>\n",
       "      <th>0</th>\n",
       "      <td>Taylor Swift</td>\n",
       "      <td>​betty</td>\n",
       "      <td>Betty, I won't make assumptions\\nAbout why you...</td>\n",
       "      <td>[country]</td>\n",
       "      <td>[betty, make, assumptions, switched, homeroom,...</td>\n",
       "      <td>betty make assumptions switched homeroom think...</td>\n",
       "    </tr>\n",
       "    <tr>\n",
       "      <th>1</th>\n",
       "      <td>John Denver</td>\n",
       "      <td>Take Me Home, Country Roads</td>\n",
       "      <td>Almost Heaven, West Virginia\\nBlue Ridge Mount...</td>\n",
       "      <td>[country]</td>\n",
       "      <td>[almost, heaven, west, virginia, blue, ridge, ...</td>\n",
       "      <td>almost heaven west virginia blue ridge mountai...</td>\n",
       "    </tr>\n",
       "    <tr>\n",
       "      <th>2</th>\n",
       "      <td>Post Malone</td>\n",
       "      <td>Feeling Whitney</td>\n",
       "      <td>I've been looking for someone...\\nOoh, ooh, oo...</td>\n",
       "      <td>[country]</td>\n",
       "      <td>[looking, someone, ooh, ooh, ooh, ooh, ooh, oo...</td>\n",
       "      <td>looking someone ooh ooh ooh ooh ooh oohooh ooh...</td>\n",
       "    </tr>\n",
       "    <tr>\n",
       "      <th>3</th>\n",
       "      <td>Cam</td>\n",
       "      <td>Burning House</td>\n",
       "      <td>\\n[Verse 1]\\nI had a dream about a burning hou...</td>\n",
       "      <td>[country]</td>\n",
       "      <td>[dream, burning, house, stuck, inside, get, la...</td>\n",
       "      <td>dream burning house stuck inside get laid besi...</td>\n",
       "    </tr>\n",
       "    <tr>\n",
       "      <th>4</th>\n",
       "      <td>Johnny Cash</td>\n",
       "      <td>Folsom Prison Blues</td>\n",
       "      <td>I hear the train a-comin', it's rolling 'round...</td>\n",
       "      <td>[country]</td>\n",
       "      <td>[hear, train, acomin, rolling, round, bend, ai...</td>\n",
       "      <td>hear train acomin rolling round bend aint seen...</td>\n",
       "    </tr>\n",
       "  </tbody>\n",
       "</table>\n",
       "</div>"
      ],
      "text/plain": [
       "         artist                        title  \\\n",
       "0  Taylor Swift                       ​betty   \n",
       "1   John Denver  Take Me Home, Country Roads   \n",
       "2   Post Malone              Feeling Whitney   \n",
       "3           Cam                Burning House   \n",
       "4   Johnny Cash          Folsom Prison Blues   \n",
       "\n",
       "                                              lyrics      genre  \\\n",
       "0  Betty, I won't make assumptions\\nAbout why you...  [country]   \n",
       "1  Almost Heaven, West Virginia\\nBlue Ridge Mount...  [country]   \n",
       "2  I've been looking for someone...\\nOoh, ooh, oo...  [country]   \n",
       "3  \\n[Verse 1]\\nI had a dream about a burning hou...  [country]   \n",
       "4  I hear the train a-comin', it's rolling 'round...  [country]   \n",
       "\n",
       "                                              tokens  \\\n",
       "0  [betty, make, assumptions, switched, homeroom,...   \n",
       "1  [almost, heaven, west, virginia, blue, ridge, ...   \n",
       "2  [looking, someone, ooh, ooh, ooh, ooh, ooh, oo...   \n",
       "3  [dream, burning, house, stuck, inside, get, la...   \n",
       "4  [hear, train, acomin, rolling, round, bend, ai...   \n",
       "\n",
       "                                        lyrics_clean  \n",
       "0  betty make assumptions switched homeroom think...  \n",
       "1  almost heaven west virginia blue ridge mountai...  \n",
       "2  looking someone ooh ooh ooh ooh ooh oohooh ooh...  \n",
       "3  dream burning house stuck inside get laid besi...  \n",
       "4  hear train acomin rolling round bend aint seen...  "
      ]
     },
     "execution_count": 2,
     "metadata": {},
     "output_type": "execute_result"
    }
   ],
   "source": [
    "#import data\n",
    "# Read in preprocessed data\n",
    "preproc_df = pd.read_csv(\"data/genre_prepped.csv.gz\", compression = \"gzip\",\n",
    "                         converters = {\"tokens\": literal_eval, \"genre\" : literal_eval})\n",
    "\n",
    "# drop unnecessary columns (index and unnamed index columns)\n",
    "preproc_df = preproc_df.drop(preproc_df.columns[0:2], axis = 1)\n",
    "\n",
    "# Sample Table\n",
    "preproc_df.head(5)"
   ]
  },
  {
   "attachments": {},
   "cell_type": "markdown",
   "metadata": {},
   "source": [
    "# Format the labels"
   ]
  },
  {
   "cell_type": "code",
   "execution_count": 3,
   "metadata": {},
   "outputs": [],
   "source": [
    "# Convert genres to set for multilabel encoding\n",
    "preproc_df[\"genre_set\"] = preproc_df[\"genre\"].map(set)"
   ]
  },
  {
   "cell_type": "code",
   "execution_count": 4,
   "metadata": {},
   "outputs": [
    {
     "data": {
      "text/plain": [
       "array([[1, 0, 0, 0, 0],\n",
       "       [1, 0, 0, 0, 0],\n",
       "       [1, 0, 0, 0, 0],\n",
       "       ...,\n",
       "       [0, 0, 0, 1, 0],\n",
       "       [0, 0, 0, 1, 0],\n",
       "       [0, 0, 0, 1, 0]])"
      ]
     },
     "execution_count": 4,
     "metadata": {},
     "output_type": "execute_result"
    }
   ],
   "source": [
    "mlb = MultiLabelBinarizer()\n",
    "genre_array = mlb.fit_transform(preproc_df[\"genre_set\"])\n",
    "genre_array"
   ]
  },
  {
   "cell_type": "code",
   "execution_count": 5,
   "metadata": {},
   "outputs": [],
   "source": [
    "# Convert label array to sparse matrix\n",
    "genre_sparse = sparse.csr_matrix(genre_array)"
   ]
  },
  {
   "attachments": {},
   "cell_type": "markdown",
   "metadata": {},
   "source": [
    "# Vectorize text input\n",
    "We'll use TF-IDF vectors for now"
   ]
  },
  {
   "cell_type": "code",
   "execution_count": 6,
   "metadata": {},
   "outputs": [],
   "source": [
    "tfidf_vectorizer = TfidfVectorizer()\n",
    "text_sparse = tfidf_vectorizer.fit_transform(preproc_df['lyrics_clean'])"
   ]
  },
  {
   "attachments": {},
   "cell_type": "markdown",
   "metadata": {},
   "source": [
    "# Splitting the data into training and testing\n",
    "Using 70/30 train/test split.\n"
   ]
  },
  {
   "cell_type": "code",
   "execution_count": 7,
   "metadata": {},
   "outputs": [],
   "source": [
    "X_train, X_test, y_train, y_test = train_test_split(text_sparse, genre_array,\n",
    "                                                    test_size= 0.3 , random_state= 2023)"
   ]
  },
  {
   "attachments": {},
   "cell_type": "markdown",
   "metadata": {},
   "source": [
    "# Models \n",
    "\n",
    "For classification, the selected models will demonstrate the commonly used for text classification: K-Nearest Neighbors"
   ]
  },
  {
   "attachments": {},
   "cell_type": "markdown",
   "metadata": {},
   "source": [
    "### Create custom scorer: \n",
    "Hamming loss will take into account the fraction of each prediction that is right over accuracy which evaluates exact matches."
   ]
  },
  {
   "cell_type": "code",
   "execution_count": 91,
   "metadata": {},
   "outputs": [],
   "source": [
    "hamming_loss_scorer = make_scorer(hamming_loss)"
   ]
  },
  {
   "attachments": {},
   "cell_type": "markdown",
   "metadata": {},
   "source": [
    "### KNN Model\n",
    "Train"
   ]
  },
  {
   "cell_type": "code",
   "execution_count": 158,
   "metadata": {},
   "outputs": [
    {
     "data": {
      "text/plain": [
       "{'knn__estimator__metric': 'euclidean',\n",
       " 'knn__estimator__n_neighbors': 1,\n",
       " 'knn__estimator__weights': 'uniform'}"
      ]
     },
     "execution_count": 158,
     "metadata": {},
     "output_type": "execute_result"
    }
   ],
   "source": [
    "# Set up hyperparameter options\n",
    "n_neighbors = range(1,21, 2)\n",
    "weights = ['uniform', 'distance']\n",
    "metric = ['euclidean', 'minkowski'] # Manhattan was failing to fit - these two should work alright though\n",
    "\n",
    "# Setup model pipeline so we can reference it in param_distributions\n",
    "knn_pipe = Pipeline(\n",
    "    steps = [\n",
    "        ('knn', MultiOutputClassifier(KNeighborsClassifier(), n_jobs= - 1))\n",
    "    ]\n",
    ")\n",
    "\n",
    "# Search\n",
    "knn_tuned = GridSearchCV(\n",
    "    estimator= knn_pipe,\n",
    "    param_grid = {'knn__estimator__n_neighbors' : n_neighbors,\n",
    "                   'knn__estimator__weights' : weights,\n",
    "                   'knn__estimator__metric' : metric},\n",
    "    scoring= hamming_loss_scorer\n",
    ").fit(X_train, y_train)\n",
    "\n",
    "# Return the best model parameters\n",
    "knn_tuned.best_params_"
   ]
  },
  {
   "attachments": {},
   "cell_type": "markdown",
   "metadata": {},
   "source": [
    "Save so we don't need to retrain in the future"
   ]
  },
  {
   "cell_type": "code",
   "execution_count": 159,
   "metadata": {},
   "outputs": [],
   "source": [
    "pickle.dump(knn_tuned, open('models/knn_tuned.sav', 'wb'))"
   ]
  },
  {
   "attachments": {},
   "cell_type": "markdown",
   "metadata": {},
   "source": [
    "### Support Vector Classification Model"
   ]
  },
  {
   "cell_type": "code",
   "execution_count": 34,
   "metadata": {},
   "outputs": [],
   "source": [
    "from sklearn.svm import SVC"
   ]
  },
  {
   "cell_type": "code",
   "execution_count": 38,
   "metadata": {},
   "outputs": [],
   "source": [
    "clf = MultiOutputClassifier(SVC(kernel = \"linear\", probability = True, random_state = 2023)).fit(X_train, y_train)"
   ]
  },
  {
   "cell_type": "code",
   "execution_count": 62,
   "metadata": {},
   "outputs": [],
   "source": [
    "svc_predictions = clf.predict(X_test)"
   ]
  },
  {
   "cell_type": "code",
   "execution_count": 63,
   "metadata": {},
   "outputs": [],
   "source": [
    "# The output is a list of 5 arrays - one array per genre\n",
    "# Dimensions of array are n songs by 2 (probability of genre being True/False)\n",
    "svc_prob_predictions = clf.predict_proba(X_test)"
   ]
  },
  {
   "cell_type": "code",
   "execution_count": 88,
   "metadata": {},
   "outputs": [],
   "source": [
    "svc_prob_by_genre = []\n",
    "for i in range(0, len(svc_prob_predictions)):\n",
    "    # Take the True probability column from each genre column\n",
    "    genre_prob = svc_prob_predictions[i][:, 0]\n",
    "    # Append array of probability being True for each song\n",
    "    svc_prob_by_genre.append(genre_prob)"
   ]
  },
  {
   "cell_type": "code",
   "execution_count": 127,
   "metadata": {},
   "outputs": [],
   "source": [
    "# Convert binary predictions to dataframe\n",
    "svc_pred_df = pd.DataFrame(svc_predictions)"
   ]
  },
  {
   "cell_type": "code",
   "execution_count": 124,
   "metadata": {},
   "outputs": [
    {
     "data": {
      "text/html": [
       "<div>\n",
       "<style scoped>\n",
       "    .dataframe tbody tr th:only-of-type {\n",
       "        vertical-align: middle;\n",
       "    }\n",
       "\n",
       "    .dataframe tbody tr th {\n",
       "        vertical-align: top;\n",
       "    }\n",
       "\n",
       "    .dataframe thead th {\n",
       "        text-align: right;\n",
       "    }\n",
       "</style>\n",
       "<table border=\"1\" class=\"dataframe\">\n",
       "  <thead>\n",
       "    <tr style=\"text-align: right;\">\n",
       "      <th></th>\n",
       "      <th>country</th>\n",
       "      <th>pop</th>\n",
       "      <th>r-b</th>\n",
       "      <th>rap</th>\n",
       "      <th>rock</th>\n",
       "    </tr>\n",
       "  </thead>\n",
       "  <tbody>\n",
       "    <tr>\n",
       "      <th>0</th>\n",
       "      <td>0.427592</td>\n",
       "      <td>0.829015</td>\n",
       "      <td>0.939393</td>\n",
       "      <td>8.345874e-01</td>\n",
       "      <td>0.891101</td>\n",
       "    </tr>\n",
       "    <tr>\n",
       "      <th>1</th>\n",
       "      <td>0.990354</td>\n",
       "      <td>0.801487</td>\n",
       "      <td>0.720675</td>\n",
       "      <td>6.945406e-01</td>\n",
       "      <td>0.543324</td>\n",
       "    </tr>\n",
       "    <tr>\n",
       "      <th>2</th>\n",
       "      <td>0.905410</td>\n",
       "      <td>0.851421</td>\n",
       "      <td>0.909579</td>\n",
       "      <td>2.584235e-01</td>\n",
       "      <td>0.883123</td>\n",
       "    </tr>\n",
       "    <tr>\n",
       "      <th>3</th>\n",
       "      <td>0.921722</td>\n",
       "      <td>0.650789</td>\n",
       "      <td>0.846121</td>\n",
       "      <td>8.445184e-01</td>\n",
       "      <td>0.765547</td>\n",
       "    </tr>\n",
       "    <tr>\n",
       "      <th>4</th>\n",
       "      <td>0.644307</td>\n",
       "      <td>0.769646</td>\n",
       "      <td>0.852015</td>\n",
       "      <td>8.300990e-01</td>\n",
       "      <td>0.785010</td>\n",
       "    </tr>\n",
       "    <tr>\n",
       "      <th>...</th>\n",
       "      <td>...</td>\n",
       "      <td>...</td>\n",
       "      <td>...</td>\n",
       "      <td>...</td>\n",
       "      <td>...</td>\n",
       "    </tr>\n",
       "    <tr>\n",
       "      <th>1233</th>\n",
       "      <td>0.628611</td>\n",
       "      <td>0.750052</td>\n",
       "      <td>0.874671</td>\n",
       "      <td>9.807534e-01</td>\n",
       "      <td>0.713839</td>\n",
       "    </tr>\n",
       "    <tr>\n",
       "      <th>1234</th>\n",
       "      <td>0.989559</td>\n",
       "      <td>0.889001</td>\n",
       "      <td>0.780790</td>\n",
       "      <td>4.412447e-08</td>\n",
       "      <td>0.983742</td>\n",
       "    </tr>\n",
       "    <tr>\n",
       "      <th>1235</th>\n",
       "      <td>0.855680</td>\n",
       "      <td>0.654104</td>\n",
       "      <td>0.779304</td>\n",
       "      <td>9.463177e-01</td>\n",
       "      <td>0.680496</td>\n",
       "    </tr>\n",
       "    <tr>\n",
       "      <th>1236</th>\n",
       "      <td>0.913045</td>\n",
       "      <td>0.701476</td>\n",
       "      <td>0.850946</td>\n",
       "      <td>1.251695e-01</td>\n",
       "      <td>0.746752</td>\n",
       "    </tr>\n",
       "    <tr>\n",
       "      <th>1237</th>\n",
       "      <td>0.628143</td>\n",
       "      <td>0.615741</td>\n",
       "      <td>0.931677</td>\n",
       "      <td>9.955870e-01</td>\n",
       "      <td>0.430207</td>\n",
       "    </tr>\n",
       "  </tbody>\n",
       "</table>\n",
       "<p>1238 rows × 5 columns</p>\n",
       "</div>"
      ],
      "text/plain": [
       "       country       pop       r-b           rap      rock\n",
       "0     0.427592  0.829015  0.939393  8.345874e-01  0.891101\n",
       "1     0.990354  0.801487  0.720675  6.945406e-01  0.543324\n",
       "2     0.905410  0.851421  0.909579  2.584235e-01  0.883123\n",
       "3     0.921722  0.650789  0.846121  8.445184e-01  0.765547\n",
       "4     0.644307  0.769646  0.852015  8.300990e-01  0.785010\n",
       "...        ...       ...       ...           ...       ...\n",
       "1233  0.628611  0.750052  0.874671  9.807534e-01  0.713839\n",
       "1234  0.989559  0.889001  0.780790  4.412447e-08  0.983742\n",
       "1235  0.855680  0.654104  0.779304  9.463177e-01  0.680496\n",
       "1236  0.913045  0.701476  0.850946  1.251695e-01  0.746752\n",
       "1237  0.628143  0.615741  0.931677  9.955870e-01  0.430207\n",
       "\n",
       "[1238 rows x 5 columns]"
      ]
     },
     "execution_count": 124,
     "metadata": {},
     "output_type": "execute_result"
    }
   ],
   "source": [
    "# Convert probability predictions to dataframe\n",
    "svc_prob_df = pd.DataFrame(svc_prob_by_genre).T\n",
    "svc_prob_df.columns = mlb.classes_.tolist()\n",
    "svc_prob_df"
   ]
  },
  {
   "cell_type": "code",
   "execution_count": 125,
   "metadata": {},
   "outputs": [],
   "source": [
    "from sklearn.metrics import multilabel_confusion_matrix"
   ]
  },
  {
   "cell_type": "code",
   "execution_count": 128,
   "metadata": {},
   "outputs": [
    {
     "data": {
      "text/plain": [
       "array([[[930,  24],\n",
       "        [191,  93]],\n",
       "\n",
       "       [[920,  16],\n",
       "        [283,  19]],\n",
       "\n",
       "       [[904,  31],\n",
       "        [226,  77]],\n",
       "\n",
       "       [[893,  44],\n",
       "        [128, 173]],\n",
       "\n",
       "       [[891,  46],\n",
       "        [249,  52]]], dtype=int64)"
      ]
     },
     "execution_count": 128,
     "metadata": {},
     "output_type": "execute_result"
    }
   ],
   "source": [
    "multilabel_confusion_matrix(y_test, svc_pred_df)"
   ]
  },
  {
   "attachments": {},
   "cell_type": "markdown",
   "metadata": {},
   "source": [
    "# Note Delete Later -\n",
    "It will probably be quicker without losing to much performance to run RandomizedSearchCV() for more complex models. Everything is the same as GridSearchCV() except param_grid needs to be param_distributions and you can set n_iter to control how many randomized hyperparameters to search through."
   ]
  },
  {
   "attachments": {},
   "cell_type": "markdown",
   "metadata": {},
   "source": [
    "# Model Results\n",
    "### KNN\n",
    "Bring in our model and predict"
   ]
  },
  {
   "cell_type": "code",
   "execution_count": 160,
   "metadata": {},
   "outputs": [],
   "source": [
    "# Load our models\n",
    "knn_load = pickle.load(open('models/knn_tuned.sav', 'rb'))\n",
    "\n",
    "\n",
    "# Predict the models\n",
    "knn_pred = knn_load.predict(X_test)\n",
    "knn_pred2 = knn_load.predict(X_test)\n",
    "\n",
    "# Save models and names in list\n",
    "model_preds = [knn_pred, knn_pred2]\n",
    "model_names = ['KNN', 'KNNDup']"
   ]
  },
  {
   "attachments": {},
   "cell_type": "markdown",
   "metadata": {},
   "source": [
    "A little info on Hamming Loss:\n",
    "\n",
    "https://mmuratarat.github.io/2020-01-25/multilabel_classification_metrics"
   ]
  },
  {
   "cell_type": "code",
   "execution_count": 161,
   "metadata": {},
   "outputs": [
    {
     "name": "stdout",
     "output_type": "stream",
     "text": [
      "Our Hamming Loss for the KNN model was 0.31\n",
      "Our Hamming Loss for the KNNDup model was 0.31\n"
     ]
    }
   ],
   "source": [
    "for pred, name in list(zip(model_preds, model_names)):\n",
    "    ham_loss = hamming_loss(y_test, pred)\n",
    "    print('Our Hamming Loss for the', name, 'model was', round(ham_loss, 2))"
   ]
  },
  {
   "cell_type": "code",
   "execution_count": 162,
   "metadata": {},
   "outputs": [
    {
     "name": "stdout",
     "output_type": "stream",
     "text": [
      "Classification Report for KNN model:\n",
      "\n",
      "               precision    recall  f1-score   support\n",
      "\n",
      "     country       0.35      0.38      0.37       284\n",
      "         pop       0.30      0.29      0.30       302\n",
      "          rb       0.32      0.39      0.35       303\n",
      "         rap       0.46      0.49      0.47       301\n",
      "        rock       0.34      0.25      0.29       301\n",
      "\n",
      "   micro avg       0.36      0.36      0.36      1491\n",
      "   macro avg       0.35      0.36      0.36      1491\n",
      "weighted avg       0.35      0.36      0.35      1491\n",
      " samples avg       0.36      0.37      0.35      1491\n",
      "\n",
      "Classification Report for KNNDup model:\n",
      "\n",
      "               precision    recall  f1-score   support\n",
      "\n",
      "     country       0.35      0.38      0.37       284\n",
      "         pop       0.30      0.29      0.30       302\n",
      "          rb       0.32      0.39      0.35       303\n",
      "         rap       0.46      0.49      0.47       301\n",
      "        rock       0.34      0.25      0.29       301\n",
      "\n",
      "   micro avg       0.36      0.36      0.36      1491\n",
      "   macro avg       0.35      0.36      0.36      1491\n",
      "weighted avg       0.35      0.36      0.35      1491\n",
      " samples avg       0.36      0.37      0.35      1491\n",
      "\n"
     ]
    }
   ],
   "source": [
    "# Get label names so report makes sense\n",
    "label_names = mlb.classes_\n",
    "\n",
    "\n",
    "# Set up empy results list\n",
    "report_list = []\n",
    "\n",
    "# Loop through models \n",
    "\n",
    "for pred, name in list(zip(model_preds, model_names)):\n",
    "    \n",
    "      report = classification_report(y_test, pred, target_names=label_names)\n",
    "      report_dict = classification_report(y_test, pred, target_names=label_names, output_dict=True)\n",
    "\n",
    "      # Put report in df for plot\n",
    "      report_df_temp = pd.DataFrame(report_dict).transpose()\n",
    "\n",
    "      # Clean up df\n",
    "      report_df_temp['subset'] = report_df_temp.index\n",
    "      report_df_temp['model'] = name\n",
    "\n",
    "      report_list.append(report_df_temp)\n",
    "\n",
    "      print('Classification Report for', name, 'model:\\n\\n', \n",
    "            report)\n",
    "\n",
    "# Save our results to a df for plotting\n",
    "report_df = pd.concat(report_list).reset_index(drop=True)"
   ]
  },
  {
   "cell_type": "code",
   "execution_count": 163,
   "metadata": {},
   "outputs": [],
   "source": [
    "# Fucntion to plot multi-label confusion matrices\n",
    "def plot_class_cms(y_pred, model_name):\n",
    "    f, axes = plt.subplots(2, 3, figsize=(12, 9))\n",
    "    axes = axes.ravel()\n",
    "    for i in range(5):\n",
    "        disp = ConfusionMatrixDisplay(confusion_matrix(y_test[:, i],\n",
    "                                                    y_pred[:, i]),\n",
    "                                    display_labels=[0, i])\n",
    "        disp.plot(ax=axes[i], values_format='.4g')\n",
    "        disp.ax_.set_xticklabels([0,1])\n",
    "        disp.ax_.set_yticklabels([0,1])\n",
    "        disp.ax_.set_title(label_names[i])\n",
    "\n",
    "        # Put label on each new row\n",
    "        if i%3!=0:\n",
    "            disp.ax_.set_ylabel('')\n",
    "        disp.im_.colorbar.remove()\n",
    "\n",
    "    # Get rid of extra plot\n",
    "    axes[5].set_axis_off()\n",
    "\n",
    "    # Plot\n",
    "    plt.subplots_adjust(wspace=0.10, hspace=0.1)\n",
    "    plt.suptitle('Confusion Matrix for Each Class: ' + model_name)\n",
    "    f.colorbar(disp.im_, ax=axes)\n",
    "    plt.show()\n"
   ]
  },
  {
   "cell_type": "code",
   "execution_count": 164,
   "metadata": {},
   "outputs": [
    {
     "data": {
      "image/png": "[encoded data removed]",
      "text/plain": [
       "<Figure size 864x648 with 7 Axes>"
      ]
     },
     "metadata": {
      "needs_background": "light"
     },
     "output_type": "display_data"
    },
    {
     "data": {
      "image/png": "[encoded data removed]",
      "text/plain": [
       "<Figure size 864x648 with 7 Axes>"
      ]
     },
     "metadata": {
      "needs_background": "light"
     },
     "output_type": "display_data"
    }
   ],
   "source": [
    "for pred, name in list(zip(model_preds, model_names)):\n",
    "    plot_class_cms(y_pred=pred, model_name=name)"
   ]
  },
  {
   "cell_type": "code",
   "execution_count": 165,
   "metadata": {},
   "outputs": [
    {
     "data": {
      "image/png": "[encoded data removed]",
      "text/plain": [
       "<Figure size 576x432 with 1 Axes>"
      ]
     },
     "metadata": {
      "needs_background": "light"
     },
     "output_type": "display_data"
    }
   ],
   "source": [
    "# Need to flip the df around a little\n",
    "report_df = report_df[report_df['subset'].isin(label_names)]\n",
    "report_df_f1 = pd.pivot(report_df, columns='subset', index='model',\n",
    "                         values='f1-score') # Change values if we want a dif metric\n",
    "report_df_f1 = report_df_f1.reset_index()\n",
    "\n",
    "report_df_f1.plot(x= 'model',\n",
    "                  kind= 'bar',\n",
    "                  stacked=False,\n",
    "                  title= 'F1 Score By Model and Group',\n",
    "                  xlabel=\"Model\",\n",
    "                  ylabel='F1-Score',\n",
    "                  figsize=(8,6),\n",
    "                  ).legend(loc = 'upper right');\n"
   ]
  }
 ],
 "metadata": {
  "kernelspec": {
   "display_name": "Python 3",
   "language": "python",
   "name": "python3"
  },
  "language_info": {
   "codemirror_mode": {
    "name": "ipython",
    "version": 3
   },
   "file_extension": ".py",
   "mimetype": "text/x-python",
   "name": "python",
   "nbconvert_exporter": "python",
   "pygments_lexer": "ipython3",
   "version": "3.9.5"
  },
  "orig_nbformat": 4,
  "vscode": {
   "interpreter": {
    "hash": "aee8b7b246df8f9039afb4144a1f6fd8d2ca17a180786b69acc140d282b71a49"
   }
  }
 },
 "nbformat": 4,
 "nbformat_minor": 2
}
