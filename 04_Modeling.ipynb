{
 "cells": [
  {
   "attachments": {},
   "cell_type": "markdown",
   "metadata": {},
   "source": [
    "# Notebook 4 - Modeling\n",
    "\n",
    "This notebook will perform the splitting of data, training and testing the selected models, and identifying the final model to be selected."
   ]
  },
  {
   "cell_type": "code",
   "execution_count": 5,
   "metadata": {},
   "outputs": [],
   "source": [
    "import numpy as np\n",
    "import pandas as pd\n",
    "from sklearn.preprocessing import MultiLabelBinarizer\n",
    "from sklearn.model_selection import train_test_split\n",
    "from sklearn.feature_extraction.text import TfidfVectorizer\n",
    "from ast import literal_eval\n",
    "from scipy import sparse\n",
    "from sklearn.multioutput import MultiOutputClassifier\n",
    "from sklearn.neighbors import KNeighborsClassifier\n",
    "from sklearn.model_selection import RandomizedSearchCV, GridSearchCV\n",
    "from sklearn.pipeline import Pipeline\n",
    "import pickle\n",
    "from sklearn.metrics import ConfusionMatrixDisplay, confusion_matrix, classification_report\n",
    "import matplotlib.pyplot as plt\n",
    "from sklearn.metrics import hamming_loss, make_scorer\n",
    "from sklearn.linear_model import LogisticRegression\n",
    "from sklearn.svm import SVC"
   ]
  },
  {
   "cell_type": "code",
   "execution_count": 7,
   "metadata": {},
   "outputs": [
    {
     "data": {
      "text/html": [
       "<div>\n",
       "<style scoped>\n",
       "    .dataframe tbody tr th:only-of-type {\n",
       "        vertical-align: middle;\n",
       "    }\n",
       "\n",
       "    .dataframe tbody tr th {\n",
       "        vertical-align: top;\n",
       "    }\n",
       "\n",
       "    .dataframe thead th {\n",
       "        text-align: right;\n",
       "    }\n",
       "</style>\n",
       "<table border=\"1\" class=\"dataframe\">\n",
       "  <thead>\n",
       "    <tr style=\"text-align: right;\">\n",
       "      <th></th>\n",
       "      <th>artist</th>\n",
       "      <th>title</th>\n",
       "      <th>lyrics</th>\n",
       "      <th>genre</th>\n",
       "      <th>tokens</th>\n",
       "      <th>lyrics_clean</th>\n",
       "    </tr>\n",
       "  </thead>\n",
       "  <tbody>\n",
       "    <tr>\n",
       "      <th>0</th>\n",
       "      <td>Taylor Swift</td>\n",
       "      <td>​betty</td>\n",
       "      <td>Betty, I won't make assumptions\\nAbout why you...</td>\n",
       "      <td>[country]</td>\n",
       "      <td>[betty, make, assumptions, switched, homeroom,...</td>\n",
       "      <td>betty make assumptions switched homeroom think...</td>\n",
       "    </tr>\n",
       "    <tr>\n",
       "      <th>1</th>\n",
       "      <td>John Denver</td>\n",
       "      <td>Take Me Home, Country Roads</td>\n",
       "      <td>Almost Heaven, West Virginia\\nBlue Ridge Mount...</td>\n",
       "      <td>[country]</td>\n",
       "      <td>[almost, heaven, west, virginia, blue, ridge, ...</td>\n",
       "      <td>almost heaven west virginia blue ridge mountai...</td>\n",
       "    </tr>\n",
       "    <tr>\n",
       "      <th>2</th>\n",
       "      <td>Post Malone</td>\n",
       "      <td>Feeling Whitney</td>\n",
       "      <td>I've been looking for someone...\\nOoh, ooh, oo...</td>\n",
       "      <td>[country]</td>\n",
       "      <td>[looking, someone, ooh, ooh, ooh, ooh, ooh, oo...</td>\n",
       "      <td>looking someone ooh ooh ooh ooh ooh oohooh ooh...</td>\n",
       "    </tr>\n",
       "    <tr>\n",
       "      <th>3</th>\n",
       "      <td>Cam</td>\n",
       "      <td>Burning House</td>\n",
       "      <td>\\n[Verse 1]\\nI had a dream about a burning hou...</td>\n",
       "      <td>[country]</td>\n",
       "      <td>[dream, burning, house, stuck, inside, get, la...</td>\n",
       "      <td>dream burning house stuck inside get laid besi...</td>\n",
       "    </tr>\n",
       "    <tr>\n",
       "      <th>4</th>\n",
       "      <td>Johnny Cash</td>\n",
       "      <td>Folsom Prison Blues</td>\n",
       "      <td>I hear the train a-comin', it's rolling 'round...</td>\n",
       "      <td>[country]</td>\n",
       "      <td>[hear, train, acomin, rolling, round, bend, ai...</td>\n",
       "      <td>hear train acomin rolling round bend aint seen...</td>\n",
       "    </tr>\n",
       "  </tbody>\n",
       "</table>\n",
       "</div>"
      ],
      "text/plain": [
       "         artist                        title  \\\n",
       "0  Taylor Swift                       ​betty   \n",
       "1   John Denver  Take Me Home, Country Roads   \n",
       "2   Post Malone              Feeling Whitney   \n",
       "3           Cam                Burning House   \n",
       "4   Johnny Cash          Folsom Prison Blues   \n",
       "\n",
       "                                              lyrics      genre  \\\n",
       "0  Betty, I won't make assumptions\\nAbout why you...  [country]   \n",
       "1  Almost Heaven, West Virginia\\nBlue Ridge Mount...  [country]   \n",
       "2  I've been looking for someone...\\nOoh, ooh, oo...  [country]   \n",
       "3  \\n[Verse 1]\\nI had a dream about a burning hou...  [country]   \n",
       "4  I hear the train a-comin', it's rolling 'round...  [country]   \n",
       "\n",
       "                                              tokens  \\\n",
       "0  [betty, make, assumptions, switched, homeroom,...   \n",
       "1  [almost, heaven, west, virginia, blue, ridge, ...   \n",
       "2  [looking, someone, ooh, ooh, ooh, ooh, ooh, oo...   \n",
       "3  [dream, burning, house, stuck, inside, get, la...   \n",
       "4  [hear, train, acomin, rolling, round, bend, ai...   \n",
       "\n",
       "                                        lyrics_clean  \n",
       "0  betty make assumptions switched homeroom think...  \n",
       "1  almost heaven west virginia blue ridge mountai...  \n",
       "2  looking someone ooh ooh ooh ooh ooh oohooh ooh...  \n",
       "3  dream burning house stuck inside get laid besi...  \n",
       "4  hear train acomin rolling round bend aint seen...  "
      ]
     },
     "execution_count": 7,
     "metadata": {},
     "output_type": "execute_result"
    }
   ],
   "source": [
    "#import data\n",
    "# Read in preprocessed data\n",
    "preproc_df = pd.read_csv(\"data/genre_prepped.csv.gz\", compression = \"gzip\",\n",
    "                         converters = {\"tokens\": literal_eval, \"genre\" : literal_eval})\n",
    "\n",
    "# drop unnecessary columns (index and unnamed index columns)\n",
    "preproc_df = preproc_df.drop(preproc_df.columns[0:2], axis = 1)\n",
    "\n",
    "# Sample Table\n",
    "preproc_df.head(5)"
   ]
  },
  {
   "attachments": {},
   "cell_type": "markdown",
   "metadata": {},
   "source": [
    "# Format the labels"
   ]
  },
  {
   "cell_type": "code",
   "execution_count": 8,
   "metadata": {},
   "outputs": [],
   "source": [
    "# Convert genres to set for multilabel encoding\n",
    "preproc_df[\"genre_set\"] = preproc_df[\"genre\"].map(set)"
   ]
  },
  {
   "cell_type": "code",
   "execution_count": 9,
   "metadata": {},
   "outputs": [
    {
     "data": {
      "text/plain": [
       "array([[1, 0, 0, 0, 0],\n",
       "       [1, 0, 0, 0, 0],\n",
       "       [1, 0, 0, 0, 0],\n",
       "       ...,\n",
       "       [0, 0, 0, 1, 0],\n",
       "       [0, 0, 0, 1, 0],\n",
       "       [0, 0, 0, 1, 0]])"
      ]
     },
     "execution_count": 9,
     "metadata": {},
     "output_type": "execute_result"
    }
   ],
   "source": [
    "mlb = MultiLabelBinarizer()\n",
    "genre_array = mlb.fit_transform(preproc_df[\"genre_set\"])\n",
    "genre_array"
   ]
  },
  {
   "cell_type": "code",
   "execution_count": 10,
   "metadata": {},
   "outputs": [],
   "source": [
    "# Convert label array to sparse matrix\n",
    "genre_sparse = sparse.csr_matrix(genre_array)"
   ]
  },
  {
   "attachments": {},
   "cell_type": "markdown",
   "metadata": {},
   "source": [
    "# Vectorize text input\n",
    "We'll use TF-IDF vectors for now"
   ]
  },
  {
   "cell_type": "code",
   "execution_count": 17,
   "metadata": {},
   "outputs": [],
   "source": [
    "tfidf_vectorizer = TfidfVectorizer()\n",
    "text_sparse = tfidf_vectorizer.fit_transform(preproc_df['lyrics_clean'])"
   ]
  },
  {
   "attachments": {},
   "cell_type": "markdown",
   "metadata": {},
   "source": [
    "# Splitting the data into training and testing\n",
    "Using 70/30 train/test split.\n"
   ]
  },
  {
   "cell_type": "code",
   "execution_count": 7,
   "metadata": {},
   "outputs": [],
   "source": [
    "X_train, X_test, y_train, y_test = train_test_split(text_sparse, genre_array,\n",
    "                                                    test_size= 0.3 , random_state= 2023)"
   ]
  },
  {
   "attachments": {},
   "cell_type": "markdown",
   "metadata": {},
   "source": [
    "# Models \n",
    "\n",
    "For classification, the selected models will demonstrate the commonly used for text classification: K-Nearest Neighbors"
   ]
  },
  {
   "attachments": {},
   "cell_type": "markdown",
   "metadata": {},
   "source": [
    "### Create custom scorer: \n",
    "Hamming loss will take into account the fraction of each prediction that is right over accuracy which evaluates exact matches."
   ]
  },
  {
   "cell_type": "code",
   "execution_count": 23,
   "metadata": {},
   "outputs": [],
   "source": [
    "hamming_loss_scorer = make_scorer(hamming_loss)"
   ]
  },
  {
   "attachments": {},
   "cell_type": "markdown",
   "metadata": {},
   "source": [
    "### KNN Model\n",
    "Train"
   ]
  },
  {
   "cell_type": "code",
   "execution_count": 24,
   "metadata": {},
   "outputs": [
    {
     "data": {
      "text/plain": [
       "{'knn__estimator__metric': 'euclidean',\n",
       " 'knn__estimator__n_neighbors': 1,\n",
       " 'knn__estimator__weights': 'uniform'}"
      ]
     },
     "execution_count": 24,
     "metadata": {},
     "output_type": "execute_result"
    }
   ],
   "source": [
    "# Set up hyperparameter options\n",
    "n_neighbors = range(1,21, 2)\n",
    "weights = ['uniform', 'distance']\n",
    "metric = ['euclidean', 'minkowski'] # Manhattan was failing to fit - these two should work alright though\n",
    "\n",
    "# Setup model pipeline so we can reference it in param_distributions\n",
    "knn_pipe = Pipeline(\n",
    "    steps = [\n",
    "        ('knn', MultiOutputClassifier(KNeighborsClassifier(), n_jobs= - 1))\n",
    "    ]\n",
    ")\n",
    "\n",
    "# Search\n",
    "knn_tuned = GridSearchCV(\n",
    "    estimator= knn_pipe,\n",
    "    param_grid = {'knn__estimator__n_neighbors' : n_neighbors,\n",
    "                   'knn__estimator__weights' : weights,\n",
    "                   'knn__estimator__metric' : metric},\n",
    "    scoring= hamming_loss_scorer\n",
    ").fit(X_train, y_train)\n",
    "\n",
    "# Return the best model parameters\n",
    "knn_tuned.best_params_"
   ]
  },
  {
   "attachments": {},
   "cell_type": "markdown",
   "metadata": {},
   "source": [
    "Save so we don't need to retrain in the future"
   ]
  },
  {
   "cell_type": "code",
   "execution_count": 25,
   "metadata": {},
   "outputs": [],
   "source": [
    "pickle.dump(knn_tuned, open('models/knn_tuned.sav', 'wb'))"
   ]
  },
  {
   "attachments": {},
   "cell_type": "markdown",
   "metadata": {},
   "source": [
    "### Support Vector Classification Model"
   ]
  },
  {
   "cell_type": "code",
   "execution_count": 8,
   "metadata": {},
   "outputs": [],
   "source": [
    "svc_clf = MultiOutputClassifier(SVC(\n",
    "    C = 100, kernel = \"linear\", \n",
    "    probability = True, random_state = 2023)).fit(X_train, y_train)"
   ]
  },
  {
   "cell_type": "code",
   "execution_count": 30,
   "metadata": {},
   "outputs": [],
   "source": [
    "pickle.dump(svc_clf, open('models/svc.sav', 'wb'))"
   ]
  },
  {
   "attachments": {},
   "cell_type": "markdown",
   "metadata": {},
   "source": [
    "# Note Delete Later -\n",
    "It will probably be quicker without losing to much performance to run RandomizedSearchCV() for more complex models. Everything is the same as GridSearchCV() except param_grid needs to be param_distributions and you can set n_iter to control how many randomized hyperparameters to search through."
   ]
  },
  {
   "attachments": {},
   "cell_type": "markdown",
   "metadata": {},
   "source": [
    "# Model Results\n",
    "Bring in our model and predict"
   ]
  },
  {
   "cell_type": "code",
   "execution_count": 26,
   "metadata": {},
   "outputs": [
    {
     "name": "stderr",
     "output_type": "stream",
     "text": [
      "c:\\Users\\hunte\\anaconda3\\lib\\site-packages\\sklearn\\base.py:329: UserWarning: Trying to unpickle estimator MultinomialNB from version 1.2.2 when using version 1.1.2. This might lead to breaking code or invalid results. Use at your own risk. For more info please refer to:\n",
      "https://scikit-learn.org/stable/model_persistence.html#security-maintainability-limitations\n",
      "  warnings.warn(\n",
      "c:\\Users\\hunte\\anaconda3\\lib\\site-packages\\sklearn\\base.py:329: UserWarning: Trying to unpickle estimator MultiOutputClassifier from version 1.2.2 when using version 1.1.2. This might lead to breaking code or invalid results. Use at your own risk. For more info please refer to:\n",
      "https://scikit-learn.org/stable/model_persistence.html#security-maintainability-limitations\n",
      "  warnings.warn(\n"
     ]
    }
   ],
   "source": [
    "# Load our models\n",
    "knn_load = pickle.load(open('models/knn_tuned.sav', 'rb'))\n",
    "svc_load = pickle.load(open('models/svc.sav', 'rb'))\n",
    "nb_load = pickle.load(open('models/multi_nb_clf.sav', 'rb'))\n",
    "\n",
    "# Predict the models\n",
    "knn_pred = knn_load.predict(X_test)\n",
    "svc_pred = svc_load.predict(X_test)\n",
    "nb_pred = nb_load.predict(X_test)\n",
    "\n",
    "# Save models and names in list\n",
    "model_preds = [knn_pred, svc_pred, nb_pred]\n",
    "model_names = ['KNN', 'SVC', 'NB']"
   ]
  },
  {
   "attachments": {},
   "cell_type": "markdown",
   "metadata": {},
   "source": [
    "A little info on Hamming Loss:\n",
    "\n",
    "https://mmuratarat.github.io/2020-01-25/multilabel_classification_metrics"
   ]
  },
  {
   "cell_type": "code",
   "execution_count": 27,
   "metadata": {},
   "outputs": [
    {
     "name": "stdout",
     "output_type": "stream",
     "text": [
      "Our Hamming Loss for the KNN model was 0.31\n",
      "Our Hamming Loss for the SVC model was 0.2\n",
      "Our Hamming Loss for the NB model was 0.24\n"
     ]
    }
   ],
   "source": [
    "for pred, name in list(zip(model_preds, model_names)):\n",
    "    ham_loss = hamming_loss(y_test, pred)\n",
    "    print('Our Hamming Loss for the', name, 'model was', round(ham_loss, 2))"
   ]
  },
  {
   "cell_type": "code",
   "execution_count": 28,
   "metadata": {},
   "outputs": [
    {
     "name": "stdout",
     "output_type": "stream",
     "text": [
      "Classification Report for KNN model:\n",
      "\n",
      "               precision    recall  f1-score   support\n",
      "\n",
      "     country       0.35      0.38      0.37       284\n",
      "         pop       0.30      0.29      0.30       302\n",
      "         r-b       0.32      0.39      0.35       303\n",
      "         rap       0.46      0.49      0.47       301\n",
      "        rock       0.34      0.25      0.29       301\n",
      "\n",
      "   micro avg       0.36      0.36      0.36      1491\n",
      "   macro avg       0.35      0.36      0.36      1491\n",
      "weighted avg       0.35      0.36      0.35      1491\n",
      " samples avg       0.36      0.37      0.35      1491\n",
      "\n",
      "Classification Report for SVC model:\n",
      "\n",
      "               precision    recall  f1-score   support\n",
      "\n",
      "     country       0.79      0.33      0.46       284\n",
      "         pop       0.54      0.06      0.11       302\n",
      "         r-b       0.71      0.25      0.37       303\n",
      "         rap       0.80      0.57      0.67       301\n",
      "        rock       0.53      0.17      0.26       301\n",
      "\n",
      "   micro avg       0.72      0.28      0.40      1491\n",
      "   macro avg       0.68      0.28      0.38      1491\n",
      "weighted avg       0.67      0.28      0.37      1491\n",
      " samples avg       0.32      0.30      0.30      1491\n",
      "\n",
      "Classification Report for NB model:\n",
      "\n",
      "               precision    recall  f1-score   support\n",
      "\n",
      "     country       0.88      0.05      0.10       284\n",
      "         pop       0.33      0.01      0.01       302\n",
      "         r-b       0.00      0.00      0.00       303\n",
      "         rap       0.62      0.02      0.03       301\n",
      "        rock       0.67      0.01      0.01       301\n",
      "\n",
      "   micro avg       0.69      0.02      0.03      1491\n",
      "   macro avg       0.50      0.02      0.03      1491\n",
      "weighted avg       0.50      0.02      0.03      1491\n",
      " samples avg       0.02      0.02      0.02      1491\n",
      "\n"
     ]
    },
    {
     "name": "stderr",
     "output_type": "stream",
     "text": [
      "c:\\Users\\hunte\\anaconda3\\lib\\site-packages\\sklearn\\metrics\\_classification.py:1334: UndefinedMetricWarning: Precision and F-score are ill-defined and being set to 0.0 in samples with no predicted labels. Use `zero_division` parameter to control this behavior.\n",
      "  _warn_prf(average, modifier, msg_start, len(result))\n",
      "c:\\Users\\hunte\\anaconda3\\lib\\site-packages\\sklearn\\metrics\\_classification.py:1334: UndefinedMetricWarning: Precision and F-score are ill-defined and being set to 0.0 in samples with no predicted labels. Use `zero_division` parameter to control this behavior.\n",
      "  _warn_prf(average, modifier, msg_start, len(result))\n",
      "c:\\Users\\hunte\\anaconda3\\lib\\site-packages\\sklearn\\metrics\\_classification.py:1334: UndefinedMetricWarning: Precision and F-score are ill-defined and being set to 0.0 in samples with no predicted labels. Use `zero_division` parameter to control this behavior.\n",
      "  _warn_prf(average, modifier, msg_start, len(result))\n",
      "c:\\Users\\hunte\\anaconda3\\lib\\site-packages\\sklearn\\metrics\\_classification.py:1334: UndefinedMetricWarning: Precision and F-score are ill-defined and being set to 0.0 in samples with no predicted labels. Use `zero_division` parameter to control this behavior.\n",
      "  _warn_prf(average, modifier, msg_start, len(result))\n"
     ]
    }
   ],
   "source": [
    "# Get label names so report makes sense\n",
    "label_names = mlb.classes_\n",
    "\n",
    "\n",
    "# Set up empy results list\n",
    "report_list = []\n",
    "\n",
    "# Loop through models \n",
    "\n",
    "for pred, name in list(zip(model_preds, model_names)):\n",
    "    \n",
    "      report = classification_report(y_test, pred, target_names=label_names)\n",
    "      report_dict = classification_report(y_test, pred, target_names=label_names, output_dict=True)\n",
    "\n",
    "      # Put report in df for plot\n",
    "      report_df_temp = pd.DataFrame(report_dict).transpose()\n",
    "\n",
    "      # Clean up df\n",
    "      report_df_temp['subset'] = report_df_temp.index\n",
    "      report_df_temp['model'] = name\n",
    "\n",
    "      report_list.append(report_df_temp)\n",
    "\n",
    "      print('Classification Report for', name, 'model:\\n\\n', \n",
    "            report)\n",
    "\n",
    "# Save our results to a df for plotting\n",
    "report_df = pd.concat(report_list).reset_index(drop=True)"
   ]
  },
  {
   "cell_type": "code",
   "execution_count": 29,
   "metadata": {},
   "outputs": [],
   "source": [
    "# Fucntion to plot multi-label confusion matrices\n",
    "def plot_class_cms(y_pred, model_name):\n",
    "    f, axes = plt.subplots(2, 3, figsize=(12, 9))\n",
    "    axes = axes.ravel()\n",
    "    for i in range(5):\n",
    "        disp = ConfusionMatrixDisplay(confusion_matrix(y_test[:, i],\n",
    "                                                    y_pred[:, i]),\n",
    "                                    display_labels=[0, i])\n",
    "        disp.plot(ax=axes[i], values_format='.4g')\n",
    "        disp.ax_.set_xticklabels([0,1])\n",
    "        disp.ax_.set_yticklabels([0,1])\n",
    "        disp.ax_.set_title(label_names[i])\n",
    "\n",
    "        # Put label on each new row\n",
    "        if i%3!=0:\n",
    "            disp.ax_.set_ylabel('')\n",
    "        disp.im_.colorbar.remove()\n",
    "\n",
    "    # Get rid of extra plot\n",
    "    axes[5].set_axis_off()\n",
    "\n",
    "    # Plot\n",
    "    plt.subplots_adjust(wspace=0.10, hspace=0.1)\n",
    "    plt.suptitle('Confusion Matrix for Each Class: ' + model_name)\n",
    "    f.colorbar(disp.im_, ax=axes)\n",
    "    plt.show()\n"
   ]
  },
  {
   "cell_type": "code",
   "execution_count": 30,
   "metadata": {},
   "outputs": [
    {
     "data": {
      "image/png": "[encoded data removed]",
      "text/plain": [
       "<Figure size 864x648 with 7 Axes>"
      ]
     },
     "metadata": {
      "needs_background": "light"
     },
     "output_type": "display_data"
    },
    {
     "data": {
      "image/png": "[encoded data removed]",
      "text/plain": [
       "<Figure size 864x648 with 7 Axes>"
      ]
     },
     "metadata": {
      "needs_background": "light"
     },
     "output_type": "display_data"
    },
    {
     "data": {
      "image/png": "[encoded data removed]",
      "text/plain": [
       "<Figure size 864x648 with 7 Axes>"
      ]
     },
     "metadata": {
      "needs_background": "light"
     },
     "output_type": "display_data"
    }
   ],
   "source": [
    "for pred, name in list(zip(model_preds, model_names)):\n",
    "    plot_class_cms(y_pred=pred, model_name=name)"
   ]
  },
  {
   "cell_type": "code",
   "execution_count": 31,
   "metadata": {},
   "outputs": [
    {
     "data": {
      "image/png": "[encoded data removed]",
      "text/plain": [
       "<Figure size 576x432 with 1 Axes>"
      ]
     },
     "metadata": {
      "needs_background": "light"
     },
     "output_type": "display_data"
    }
   ],
   "source": [
    "# Need to flip the df around a little\n",
    "report_df = report_df[report_df['subset'].isin(label_names)]\n",
    "report_df_f1 = pd.pivot(report_df, columns='subset', index='model',\n",
    "                         values='f1-score') # Change values if we want a dif metric\n",
    "report_df_f1 = report_df_f1.reset_index()\n",
    "\n",
    "report_df_f1.plot(x= 'model',\n",
    "                  kind= 'bar',\n",
    "                  stacked=False,\n",
    "                  title= 'F1 Score By Model and Group',\n",
    "                  xlabel=\"Model\",\n",
    "                  ylabel='F1-Score',\n",
    "                  figsize=(8,6),\n",
    "                  ).legend(loc = 'upper right');\n"
   ]
  },
  {
   "attachments": {},
   "cell_type": "markdown",
   "metadata": {},
   "source": [
    "# Extracting Probabilities from best model\n",
    "Currently the best model is looking like the SVC"
   ]
  },
  {
   "cell_type": "code",
   "execution_count": 45,
   "metadata": {},
   "outputs": [
    {
     "data": {
      "text/html": [
       "<div>\n",
       "<style scoped>\n",
       "    .dataframe tbody tr th:only-of-type {\n",
       "        vertical-align: middle;\n",
       "    }\n",
       "\n",
       "    .dataframe tbody tr th {\n",
       "        vertical-align: top;\n",
       "    }\n",
       "\n",
       "    .dataframe thead th {\n",
       "        text-align: right;\n",
       "    }\n",
       "</style>\n",
       "<table border=\"1\" class=\"dataframe\">\n",
       "  <thead>\n",
       "    <tr style=\"text-align: right;\">\n",
       "      <th></th>\n",
       "      <th>country</th>\n",
       "      <th>pop</th>\n",
       "      <th>r-b</th>\n",
       "      <th>rap</th>\n",
       "      <th>rock</th>\n",
       "    </tr>\n",
       "  </thead>\n",
       "  <tbody>\n",
       "    <tr>\n",
       "      <th>0</th>\n",
       "      <td>0.523732</td>\n",
       "      <td>0.242651</td>\n",
       "      <td>0.111099</td>\n",
       "      <td>0.147261</td>\n",
       "      <td>0.126123</td>\n",
       "    </tr>\n",
       "    <tr>\n",
       "      <th>1</th>\n",
       "      <td>0.037385</td>\n",
       "      <td>0.191680</td>\n",
       "      <td>0.262422</td>\n",
       "      <td>0.308742</td>\n",
       "      <td>0.316883</td>\n",
       "    </tr>\n",
       "    <tr>\n",
       "      <th>2</th>\n",
       "      <td>0.102024</td>\n",
       "      <td>0.176436</td>\n",
       "      <td>0.096165</td>\n",
       "      <td>0.465310</td>\n",
       "      <td>0.142852</td>\n",
       "    </tr>\n",
       "    <tr>\n",
       "      <th>3</th>\n",
       "      <td>0.173451</td>\n",
       "      <td>0.261915</td>\n",
       "      <td>0.163310</td>\n",
       "      <td>0.294354</td>\n",
       "      <td>0.264038</td>\n",
       "    </tr>\n",
       "    <tr>\n",
       "      <th>4</th>\n",
       "      <td>0.291699</td>\n",
       "      <td>0.215378</td>\n",
       "      <td>0.166629</td>\n",
       "      <td>0.286304</td>\n",
       "      <td>0.211618</td>\n",
       "    </tr>\n",
       "    <tr>\n",
       "      <th>...</th>\n",
       "      <td>...</td>\n",
       "      <td>...</td>\n",
       "      <td>...</td>\n",
       "      <td>...</td>\n",
       "      <td>...</td>\n",
       "    </tr>\n",
       "    <tr>\n",
       "      <th>1233</th>\n",
       "      <td>0.312625</td>\n",
       "      <td>0.243495</td>\n",
       "      <td>0.135742</td>\n",
       "      <td>0.017602</td>\n",
       "      <td>0.148887</td>\n",
       "    </tr>\n",
       "    <tr>\n",
       "      <th>1234</th>\n",
       "      <td>0.011243</td>\n",
       "      <td>0.159341</td>\n",
       "      <td>0.296424</td>\n",
       "      <td>0.999999</td>\n",
       "      <td>0.012562</td>\n",
       "    </tr>\n",
       "    <tr>\n",
       "      <th>1235</th>\n",
       "      <td>0.110339</td>\n",
       "      <td>0.338669</td>\n",
       "      <td>0.510347</td>\n",
       "      <td>0.063538</td>\n",
       "      <td>0.200833</td>\n",
       "    </tr>\n",
       "    <tr>\n",
       "      <th>1236</th>\n",
       "      <td>0.067074</td>\n",
       "      <td>0.313560</td>\n",
       "      <td>0.178128</td>\n",
       "      <td>0.909892</td>\n",
       "      <td>0.210830</td>\n",
       "    </tr>\n",
       "    <tr>\n",
       "      <th>1237</th>\n",
       "      <td>0.729065</td>\n",
       "      <td>0.258505</td>\n",
       "      <td>0.077725</td>\n",
       "      <td>0.003202</td>\n",
       "      <td>0.448549</td>\n",
       "    </tr>\n",
       "  </tbody>\n",
       "</table>\n",
       "<p>1238 rows × 5 columns</p>\n",
       "</div>"
      ],
      "text/plain": [
       "       country       pop       r-b       rap      rock\n",
       "0     0.523732  0.242651  0.111099  0.147261  0.126123\n",
       "1     0.037385  0.191680  0.262422  0.308742  0.316883\n",
       "2     0.102024  0.176436  0.096165  0.465310  0.142852\n",
       "3     0.173451  0.261915  0.163310  0.294354  0.264038\n",
       "4     0.291699  0.215378  0.166629  0.286304  0.211618\n",
       "...        ...       ...       ...       ...       ...\n",
       "1233  0.312625  0.243495  0.135742  0.017602  0.148887\n",
       "1234  0.011243  0.159341  0.296424  0.999999  0.012562\n",
       "1235  0.110339  0.338669  0.510347  0.063538  0.200833\n",
       "1236  0.067074  0.313560  0.178128  0.909892  0.210830\n",
       "1237  0.729065  0.258505  0.077725  0.003202  0.448549\n",
       "\n",
       "[1238 rows x 5 columns]"
      ]
     },
     "execution_count": 45,
     "metadata": {},
     "output_type": "execute_result"
    }
   ],
   "source": [
    "# The output is a list of 5 arrays - one array per genre\n",
    "# Dimensions of array are n songs by 2 (probability of genre being False/True)\n",
    "svc_prob_predictions = svc_load.predict_proba(X_test)\n",
    "\n",
    "svc_prob_by_genre = []\n",
    "for i in range(0, len(svc_prob_predictions)):\n",
    "    # Take the True probability column from each genre column\n",
    "    genre_prob = svc_prob_predictions[i][:, 1]\n",
    "    # Append array of probability being True for each song\n",
    "    svc_prob_by_genre.append(genre_prob)\n",
    "\n",
    "# Convert probability predictions to dataframe\n",
    "svc_prob_df = pd.DataFrame(svc_prob_by_genre).T\n",
    "svc_prob_df.columns = mlb.classes_.tolist()\n",
    "svc_prob_df"
   ]
  }
 ],
 "metadata": {
  "kernelspec": {
   "display_name": "Python 3",
   "language": "python",
   "name": "python3"
  },
  "language_info": {
   "codemirror_mode": {
    "name": "ipython",
    "version": 3
   },
   "file_extension": ".py",
   "mimetype": "text/x-python",
   "name": "python",
   "nbconvert_exporter": "python",
   "pygments_lexer": "ipython3",
   "version": "3.9.5"
  },
  "orig_nbformat": 4,
  "vscode": {
   "interpreter": {
    "hash": "aee8b7b246df8f9039afb4144a1f6fd8d2ca17a180786b69acc140d282b71a49"
   }
  }
 },
 "nbformat": 4,
 "nbformat_minor": 2
}
