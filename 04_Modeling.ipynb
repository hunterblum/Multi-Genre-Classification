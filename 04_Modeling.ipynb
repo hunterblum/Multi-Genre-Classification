{
 "cells": [
  {
   "attachments": {},
   "cell_type": "markdown",
   "metadata": {},
   "source": [
    "# Notebook 4 - Modeling\n",
    "\n",
    "This notebook will perform the splitting of data, training and testing the selected models, and identifying the final model to be selected."
   ]
  },
  {
   "cell_type": "code",
   "execution_count": 20,
   "metadata": {},
   "outputs": [],
   "source": [
    "import numpy as np\n",
    "import pandas as pd\n",
    "from sklearn.preprocessing import MultiLabelBinarizer\n",
    "from sklearn.model_selection import train_test_split\n",
    "from sklearn.feature_extraction.text import TfidfVectorizer\n",
    "from ast import literal_eval\n",
    "from scipy import sparse\n",
    "from sklearn.multioutput import MultiOutputClassifier\n",
    "from sklearn.neighbors import KNeighborsClassifier"
   ]
  },
  {
   "cell_type": "code",
   "execution_count": 2,
   "metadata": {},
   "outputs": [
    {
     "data": {
      "text/html": [
       "<div>\n",
       "<style scoped>\n",
       "    .dataframe tbody tr th:only-of-type {\n",
       "        vertical-align: middle;\n",
       "    }\n",
       "\n",
       "    .dataframe tbody tr th {\n",
       "        vertical-align: top;\n",
       "    }\n",
       "\n",
       "    .dataframe thead th {\n",
       "        text-align: right;\n",
       "    }\n",
       "</style>\n",
       "<table border=\"1\" class=\"dataframe\">\n",
       "  <thead>\n",
       "    <tr style=\"text-align: right;\">\n",
       "      <th></th>\n",
       "      <th>artist</th>\n",
       "      <th>title</th>\n",
       "      <th>lyrics</th>\n",
       "      <th>genre</th>\n",
       "      <th>tokens</th>\n",
       "      <th>lyrics_clean</th>\n",
       "    </tr>\n",
       "  </thead>\n",
       "  <tbody>\n",
       "    <tr>\n",
       "      <th>0</th>\n",
       "      <td>Taylor Swift</td>\n",
       "      <td>​betty</td>\n",
       "      <td>Betty, I won't make assumptions\\nAbout why you...</td>\n",
       "      <td>[country]</td>\n",
       "      <td>[betty, make, assumptions, switched, homeroom,...</td>\n",
       "      <td>betty make assumptions switched homeroom think...</td>\n",
       "    </tr>\n",
       "    <tr>\n",
       "      <th>1</th>\n",
       "      <td>John Denver</td>\n",
       "      <td>Take Me Home, Country Roads</td>\n",
       "      <td>Almost Heaven, West Virginia\\nBlue Ridge Mount...</td>\n",
       "      <td>[country]</td>\n",
       "      <td>[almost, heaven, west, virginia, blue, ridge, ...</td>\n",
       "      <td>almost heaven west virginia blue ridge mountai...</td>\n",
       "    </tr>\n",
       "    <tr>\n",
       "      <th>2</th>\n",
       "      <td>Post Malone</td>\n",
       "      <td>Feeling Whitney</td>\n",
       "      <td>I've been looking for someone...\\nOoh, ooh, oo...</td>\n",
       "      <td>[country]</td>\n",
       "      <td>[looking, someone, ooh, ooh, ooh, ooh, ooh, oo...</td>\n",
       "      <td>looking someone ooh ooh ooh ooh ooh oohooh ooh...</td>\n",
       "    </tr>\n",
       "    <tr>\n",
       "      <th>3</th>\n",
       "      <td>Cam</td>\n",
       "      <td>Burning House</td>\n",
       "      <td>\\n[Verse 1]\\nI had a dream about a burning hou...</td>\n",
       "      <td>[country]</td>\n",
       "      <td>[dream, burning, house, stuck, inside, get, la...</td>\n",
       "      <td>dream burning house stuck inside get laid besi...</td>\n",
       "    </tr>\n",
       "    <tr>\n",
       "      <th>4</th>\n",
       "      <td>Johnny Cash</td>\n",
       "      <td>Folsom Prison Blues</td>\n",
       "      <td>I hear the train a-comin', it's rolling 'round...</td>\n",
       "      <td>[country]</td>\n",
       "      <td>[hear, train, acomin, rolling, round, bend, ai...</td>\n",
       "      <td>hear train acomin rolling round bend aint seen...</td>\n",
       "    </tr>\n",
       "  </tbody>\n",
       "</table>\n",
       "</div>"
      ],
      "text/plain": [
       "         artist                        title  \\\n",
       "0  Taylor Swift                       ​betty   \n",
       "1   John Denver  Take Me Home, Country Roads   \n",
       "2   Post Malone              Feeling Whitney   \n",
       "3           Cam                Burning House   \n",
       "4   Johnny Cash          Folsom Prison Blues   \n",
       "\n",
       "                                              lyrics      genre  \\\n",
       "0  Betty, I won't make assumptions\\nAbout why you...  [country]   \n",
       "1  Almost Heaven, West Virginia\\nBlue Ridge Mount...  [country]   \n",
       "2  I've been looking for someone...\\nOoh, ooh, oo...  [country]   \n",
       "3  \\n[Verse 1]\\nI had a dream about a burning hou...  [country]   \n",
       "4  I hear the train a-comin', it's rolling 'round...  [country]   \n",
       "\n",
       "                                              tokens  \\\n",
       "0  [betty, make, assumptions, switched, homeroom,...   \n",
       "1  [almost, heaven, west, virginia, blue, ridge, ...   \n",
       "2  [looking, someone, ooh, ooh, ooh, ooh, ooh, oo...   \n",
       "3  [dream, burning, house, stuck, inside, get, la...   \n",
       "4  [hear, train, acomin, rolling, round, bend, ai...   \n",
       "\n",
       "                                        lyrics_clean  \n",
       "0  betty make assumptions switched homeroom think...  \n",
       "1  almost heaven west virginia blue ridge mountai...  \n",
       "2  looking someone ooh ooh ooh ooh ooh oohooh ooh...  \n",
       "3  dream burning house stuck inside get laid besi...  \n",
       "4  hear train acomin rolling round bend aint seen...  "
      ]
     },
     "execution_count": 2,
     "metadata": {},
     "output_type": "execute_result"
    }
   ],
   "source": [
    "#import data\n",
    "\n",
    "# Read in preprocessed data\n",
    "preproc_df = pd.read_csv(\"data/genre_prepped.csv.gz\", compression = \"gzip\",\n",
    "                         converters = {\"tokens\": literal_eval, \"genre\" : literal_eval})\n",
    "\n",
    "# drop unnecessary columns (index and unnamed index columns)\n",
    "preproc_df = preproc_df.drop(preproc_df.columns[0:2], axis = 1)\n",
    "\n",
    "# Sample Table\n",
    "preproc_df.head(5)"
   ]
  },
  {
   "attachments": {},
   "cell_type": "markdown",
   "metadata": {},
   "source": [
    "# Format the labels"
   ]
  },
  {
   "cell_type": "code",
   "execution_count": 3,
   "metadata": {},
   "outputs": [],
   "source": [
    "# Convert genres to set for multilabel encoding\n",
    "preproc_df[\"genre_set\"] = preproc_df[\"genre\"].map(set)"
   ]
  },
  {
   "cell_type": "code",
   "execution_count": 4,
   "metadata": {},
   "outputs": [
    {
     "data": {
      "text/plain": [
       "array([[1, 0, 0, 0, 0],\n",
       "       [1, 0, 0, 0, 0],\n",
       "       [1, 0, 0, 0, 0],\n",
       "       ...,\n",
       "       [0, 0, 0, 1, 0],\n",
       "       [0, 0, 0, 1, 0],\n",
       "       [0, 0, 0, 1, 0]])"
      ]
     },
     "execution_count": 4,
     "metadata": {},
     "output_type": "execute_result"
    }
   ],
   "source": [
    "mlb = MultiLabelBinarizer()\n",
    "genre_array = mlb.fit_transform(preproc_df[\"genre_set\"])\n",
    "genre_array"
   ]
  },
  {
   "cell_type": "code",
   "execution_count": 5,
   "metadata": {},
   "outputs": [
    {
     "data": {
      "text/html": [
       "<div>\n",
       "<style scoped>\n",
       "    .dataframe tbody tr th:only-of-type {\n",
       "        vertical-align: middle;\n",
       "    }\n",
       "\n",
       "    .dataframe tbody tr th {\n",
       "        vertical-align: top;\n",
       "    }\n",
       "\n",
       "    .dataframe thead th {\n",
       "        text-align: right;\n",
       "    }\n",
       "</style>\n",
       "<table border=\"1\" class=\"dataframe\">\n",
       "  <thead>\n",
       "    <tr style=\"text-align: right;\">\n",
       "      <th></th>\n",
       "      <th>country</th>\n",
       "      <th>pop</th>\n",
       "      <th>r-b</th>\n",
       "      <th>rap</th>\n",
       "      <th>rock</th>\n",
       "    </tr>\n",
       "  </thead>\n",
       "  <tbody>\n",
       "    <tr>\n",
       "      <th>0</th>\n",
       "      <td>1</td>\n",
       "      <td>0</td>\n",
       "      <td>0</td>\n",
       "      <td>0</td>\n",
       "      <td>0</td>\n",
       "    </tr>\n",
       "    <tr>\n",
       "      <th>1</th>\n",
       "      <td>1</td>\n",
       "      <td>0</td>\n",
       "      <td>0</td>\n",
       "      <td>0</td>\n",
       "      <td>0</td>\n",
       "    </tr>\n",
       "    <tr>\n",
       "      <th>2</th>\n",
       "      <td>1</td>\n",
       "      <td>0</td>\n",
       "      <td>0</td>\n",
       "      <td>0</td>\n",
       "      <td>0</td>\n",
       "    </tr>\n",
       "    <tr>\n",
       "      <th>3</th>\n",
       "      <td>1</td>\n",
       "      <td>0</td>\n",
       "      <td>0</td>\n",
       "      <td>0</td>\n",
       "      <td>0</td>\n",
       "    </tr>\n",
       "    <tr>\n",
       "      <th>4</th>\n",
       "      <td>1</td>\n",
       "      <td>0</td>\n",
       "      <td>0</td>\n",
       "      <td>0</td>\n",
       "      <td>0</td>\n",
       "    </tr>\n",
       "  </tbody>\n",
       "</table>\n",
       "</div>"
      ],
      "text/plain": [
       "   country  pop  r-b  rap  rock\n",
       "0        1    0    0    0     0\n",
       "1        1    0    0    0     0\n",
       "2        1    0    0    0     0\n",
       "3        1    0    0    0     0\n",
       "4        1    0    0    0     0"
      ]
     },
     "execution_count": 5,
     "metadata": {},
     "output_type": "execute_result"
    }
   ],
   "source": [
    "# Convert genre array to dataframe\n",
    "genre_df = pd.DataFrame(\n",
    "    data = genre_array,\n",
    "    columns = mlb.classes_)\n",
    "genre_df.head()"
   ]
  },
  {
   "cell_type": "code",
   "execution_count": 18,
   "metadata": {},
   "outputs": [],
   "source": [
    "# Convert label array to sparse matrix\n",
    "genre_sparse = sparse.csr_matrix(genre_array)"
   ]
  },
  {
   "attachments": {},
   "cell_type": "markdown",
   "metadata": {},
   "source": [
    "# Vectorize text input\n",
    "We'll use TF-IDF vectors for now"
   ]
  },
  {
   "cell_type": "code",
   "execution_count": 21,
   "metadata": {},
   "outputs": [],
   "source": [
    "tfidf_vectorizer = TfidfVectorizer()\n",
    "text_sparse = tfidf_vectorizer.fit_transform(preproc_df['lyrics_clean'])"
   ]
  },
  {
   "attachments": {},
   "cell_type": "markdown",
   "metadata": {},
   "source": [
    "# Splitting the data into training and testing\n",
    "Using 70/30 train/test split.\n"
   ]
  },
  {
   "cell_type": "code",
   "execution_count": 22,
   "metadata": {},
   "outputs": [],
   "source": [
    "X_train, X_test, y_train, y_test = train_test_split(text_sparse, genre_sparse,\n",
    "                                                    test_size= 0.3 , random_state= 2023)"
   ]
  },
  {
   "attachments": {},
   "cell_type": "markdown",
   "metadata": {},
   "source": [
    "# Models \n",
    "\n",
    "For classification, the selected models will demonstrate the commonly used for text classification: K-Nearest Neighbors"
   ]
  },
  {
   "attachments": {},
   "cell_type": "markdown",
   "metadata": {},
   "source": [
    "## K-Nearest Neighbors"
   ]
  },
  {
   "cell_type": "code",
   "execution_count": null,
   "metadata": {},
   "outputs": [],
   "source": [
    "from sklearn.multioutput import MultiOutputClassifier\n",
    "from sklearn.neighbors import KNeighborsClassifier"
   ]
  }
 ],
 "metadata": {
  "kernelspec": {
   "display_name": "Python 3",
   "language": "python",
   "name": "python3"
  },
  "language_info": {
   "codemirror_mode": {
    "name": "ipython",
    "version": 3
   },
   "file_extension": ".py",
   "mimetype": "text/x-python",
   "name": "python",
   "nbconvert_exporter": "python",
   "pygments_lexer": "ipython3",
   "version": "3.9.12"
  },
  "orig_nbformat": 4,
  "vscode": {
   "interpreter": {
    "hash": "aee8b7b246df8f9039afb4144a1f6fd8d2ca17a180786b69acc140d282b71a49"
   }
  }
 },
 "nbformat": 4,
 "nbformat_minor": 2
}
