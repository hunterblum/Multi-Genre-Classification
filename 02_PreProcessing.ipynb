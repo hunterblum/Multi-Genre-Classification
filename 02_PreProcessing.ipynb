{
 "cells": [
  {
   "attachments": {},
   "cell_type": "markdown",
   "metadata": {},
   "source": [
    "# Notebook 2 - Lyrics Preprocessing"
   ]
  },
  {
   "cell_type": "code",
   "execution_count": 97,
   "metadata": {},
   "outputs": [],
   "source": [
    "# Needed Packages\n",
    "# from collections import Counter\n",
    "import numpy as np\n",
    "import pandas as pd\n",
    "import re"
   ]
  },
  {
   "cell_type": "code",
   "execution_count": 6,
   "metadata": {},
   "outputs": [
    {
     "name": "stdout",
     "output_type": "stream",
     "text": [
      "genre\n",
      "rock       1000\n",
      "rap        1000\n",
      "r-b         984\n",
      "pop         979\n",
      "country     976\n",
      "Name: count, dtype: int64\n",
      "(4939, 5)\n"
     ]
    },
    {
     "data": {
      "text/html": [
       "<div>\n",
       "<style scoped>\n",
       "    .dataframe tbody tr th:only-of-type {\n",
       "        vertical-align: middle;\n",
       "    }\n",
       "\n",
       "    .dataframe tbody tr th {\n",
       "        vertical-align: top;\n",
       "    }\n",
       "\n",
       "    .dataframe thead th {\n",
       "        text-align: right;\n",
       "    }\n",
       "</style>\n",
       "<table border=\"1\" class=\"dataframe\">\n",
       "  <thead>\n",
       "    <tr style=\"text-align: right;\">\n",
       "      <th></th>\n",
       "      <th>Unnamed: 0</th>\n",
       "      <th>artist</th>\n",
       "      <th>title</th>\n",
       "      <th>lyrics</th>\n",
       "      <th>genre</th>\n",
       "    </tr>\n",
       "  </thead>\n",
       "  <tbody>\n",
       "    <tr>\n",
       "      <th>0</th>\n",
       "      <td>0</td>\n",
       "      <td>['Lil Nas X']</td>\n",
       "      <td>Old Town Road (Remix)</td>\n",
       "      <td>Oh, oh-oh\\nOh\\n\\n[Chorus: Billy Ray Cyrus]\\nYe...</td>\n",
       "      <td>country</td>\n",
       "    </tr>\n",
       "    <tr>\n",
       "      <th>1</th>\n",
       "      <td>1</td>\n",
       "      <td>['Taylor Swift']</td>\n",
       "      <td>All Too Well (10 Minute Version) (Taylor's Ver...</td>\n",
       "      <td>I walked through the door with you, the air wa...</td>\n",
       "      <td>country</td>\n",
       "    </tr>\n",
       "    <tr>\n",
       "      <th>2</th>\n",
       "      <td>2</td>\n",
       "      <td>['Taylor Swift']</td>\n",
       "      <td>All Too Well (10 Minute Version) (Taylor's Ver...</td>\n",
       "      <td>I walked through the door with you, the air wa...</td>\n",
       "      <td>country</td>\n",
       "    </tr>\n",
       "    <tr>\n",
       "      <th>3</th>\n",
       "      <td>3</td>\n",
       "      <td>['Lil Nas X']</td>\n",
       "      <td>Old Town Road</td>\n",
       "      <td>Yeah, I'm gonna take my horse to the old town ...</td>\n",
       "      <td>country</td>\n",
       "    </tr>\n",
       "    <tr>\n",
       "      <th>4</th>\n",
       "      <td>4</td>\n",
       "      <td>['Taylor Swift']</td>\n",
       "      <td>Lover</td>\n",
       "      <td>We could leave the Christmas lights up 'til Ja...</td>\n",
       "      <td>country</td>\n",
       "    </tr>\n",
       "  </tbody>\n",
       "</table>\n",
       "</div>"
      ],
      "text/plain": [
       "   Unnamed: 0            artist   \n",
       "0           0     ['Lil Nas X']  \\\n",
       "1           1  ['Taylor Swift']   \n",
       "2           2  ['Taylor Swift']   \n",
       "3           3     ['Lil Nas X']   \n",
       "4           4  ['Taylor Swift']   \n",
       "\n",
       "                                               title   \n",
       "0                              Old Town Road (Remix)  \\\n",
       "1  All Too Well (10 Minute Version) (Taylor's Ver...   \n",
       "2  All Too Well (10 Minute Version) (Taylor's Ver...   \n",
       "3                                      Old Town Road   \n",
       "4                                              Lover   \n",
       "\n",
       "                                              lyrics    genre  \n",
       "0  Oh, oh-oh\\nOh\\n\\n[Chorus: Billy Ray Cyrus]\\nYe...  country  \n",
       "1  I walked through the door with you, the air wa...  country  \n",
       "2  I walked through the door with you, the air wa...  country  \n",
       "3  Yeah, I'm gonna take my horse to the old town ...  country  \n",
       "4  We could leave the Christmas lights up 'til Ja...  country  "
      ]
     },
     "execution_count": 6,
     "metadata": {},
     "output_type": "execute_result"
    }
   ],
   "source": [
    "# Read in compressed CSV file\n",
    "raw_data_df = pd.read_csv(\"data/lyrics.csv.gz\", compression = \"gzip\")\n",
    "\n",
    "# Total Counts of Songs per Genre\n",
    "print(raw_data_df[\"genre\"].value_counts())\n",
    "\n",
    "# Sample Table\n",
    "raw_data_df.head()"
   ]
  },
  {
   "attachments": {},
   "cell_type": "markdown",
   "metadata": {},
   "source": [
    "## Drop Unnecessary Index Column"
   ]
  },
  {
   "cell_type": "code",
   "execution_count": 21,
   "metadata": {},
   "outputs": [],
   "source": [
    "raw_data_df = raw_data_df.drop(raw_data_df.columns[0], axis = 1)"
   ]
  },
  {
   "attachments": {},
   "cell_type": "markdown",
   "metadata": {},
   "source": [
    "## Clean up `artist` names\n",
    "Currently, artist names are formatted as ['_name_']. Artist names should be strings without brackets or quoation marks"
   ]
  },
  {
   "cell_type": "code",
   "execution_count": 35,
   "metadata": {},
   "outputs": [],
   "source": [
    "# Remove preceding [' and ending '] from artist names\n",
    "raw_data_df[\"artist\"] = raw_data_df[\"artist\"].apply(lambda x: x[2:-2])\n",
    "\n",
    "# Some songs with multiple artists are now listed as artist_1_', 'artist_2\n",
    "# Remove ', ' and replace with just ,\n",
    "\n",
    "# NOTE: This transformation keeps apostrophes in-place\n",
    "# Where the apostropher is in the artist's name\n",
    "raw_data_df[\"artist\"] = raw_data_df[\"artist\"].apply(\n",
    "    lambda x: x.replace(\"', '\", \", \")\n",
    ")\n",
    "\n",
    "# Some artist have a randomly inserted backslash in the name\n",
    "# Clean out the backslash\n",
    "raw_data_df[\"artist\"] = raw_data_df[\"artist\"].apply(\n",
    "    lambda x: x.replace(\"\\\\\", \"\")\n",
    ")"
   ]
  },
  {
   "attachments": {},
   "cell_type": "markdown",
   "metadata": {},
   "source": [
    "## Remove multiple versions of the same songs\n",
    "In the scraped data, some songs have the same lyrics due to the fact that they are either remixes or alternative versions of the original song. For example, Taylor's Swift's All to Well appears at least twice, once in its original form and again as a \"Live Version\". To ensure that each record is unique, these duplicate versions are removed. This assumes that remixes only affect the instrumentation, not the lyrics. \n",
    "\n",
    "However, some songs are only represented by their remixed versions. We must also ensure that those songs are not removed."
   ]
  },
  {
   "cell_type": "code",
   "execution_count": 105,
   "metadata": {},
   "outputs": [],
   "source": [
    "# 1. Drop Exact Duplicates\n",
    "nondupe_df = raw_data_df.drop_duplicates(subset = [\"title\"])"
   ]
  },
  {
   "cell_type": "code",
   "execution_count": 138,
   "metadata": {},
   "outputs": [
    {
     "name": "stdout",
     "output_type": "stream",
     "text": [
      "['Old Town Road (Remix)', 'Old Town Road (Young Thug & Mason Ramsey Remix)', 'Lover (Remix)', 'Cruise (Remix)', 'Old Town Road (Seoul Town Road Remix)', 'Like a Farmer (Remix)', 'Gasoline (Remix)', 'The Bones (Remix)', 'Daddy Issues (Remix)', 'Radioactive (Remix)', 'The Night We Met (Remix)', 'POWER (Remix)', 'Despacito (Remix)', 'Girls Like You (Remix)', 'Finesse (Remix)', 'Say So (Remix)', 'Toda (Remix)', 'Save Your Tears (Remix)', 'Drunk in Love (Remix)', 'Girls Need Love (Remix)', 'Bad (Remix)', 'The Hills (Eminem Remix)', 'Beautiful (Remix)', 'Havana (Remix)', 'Deuces (Remix)', 'No Love (Remix)', 'Diamonds (Remix)', 'Wanna Know (Remix)', 'Die For You (Remix)', 'All I Need (Remix)', 'Plain Jane (Remix)', 'Versace (Remix)', 'My Way (Remix)', 'WHATS POPPIN (Remix)', 'Body (Remix)', 'Dance (A$$) (Remix)', 'Thotiana (Cardi B Remix)', 'Down in the DM (Remix)']\n"
     ]
    }
   ],
   "source": [
    "# Look for remixes to drop - remixes with standard versions included in the dataframe\n",
    "\n",
    "# All Titles with the Phrase \"Remix\" in the title\n",
    "remix_list = [x for x in nondupe_df.title.values if \"Remix\" in x]\n",
    "\n",
    "# Empty list of titles to remove\n",
    "drop_list = []\n",
    "\n",
    "# Iterate over remix list\n",
    "for title in remix_list:\n",
    "    try:\n",
    "        # Look for the phrase \"____ (\" - \n",
    "        # where Remix is often somewhere in the () of a title\n",
    "        nonremix_title = re.match(r\"([\\w\\s])+[(]\", title).group(0)\n",
    "        # Remove the ending \"(\" and any unnecessary whitespaces\n",
    "        nonremix_title = nonremix_title.replace(\"(\", \"\").strip()\n",
    "        # Look for that root title in the dataframe\n",
    "        # If the root title occurs > 1, then the song can be removed\n",
    "        # If the root title occurs only once, the remix is the only representation of the song\n",
    "        ## Thus, the song should be kept \n",
    "        if len([x for x in nondupe_df.title.values if nonremix_title in x]) > 1:\n",
    "            drop_list.append(title)\n",
    "    except:\n",
    "        pass\n"
   ]
  },
  {
   "cell_type": "code",
   "execution_count": 145,
   "metadata": {},
   "outputs": [],
   "source": [
    "# Remove songs from the drop list\n",
    "no_remix_df = nondupe_df[~nondupe_df[\"title\"].isin(drop_list)]"
   ]
  },
  {
   "attachments": {},
   "cell_type": "markdown",
   "metadata": {},
   "source": [
    "## Lyric Preprocessing\n",
    "Preprocessing Steps:\n",
    "- Lowercasing\n",
    "- ...\n",
    "- ..."
   ]
  }
 ],
 "metadata": {
  "kernelspec": {
   "display_name": "Python 3",
   "language": "python",
   "name": "python3"
  },
  "language_info": {
   "codemirror_mode": {
    "name": "ipython",
    "version": 3
   },
   "file_extension": ".py",
   "mimetype": "text/x-python",
   "name": "python",
   "nbconvert_exporter": "python",
   "pygments_lexer": "ipython3",
   "version": "3.11.1"
  },
  "orig_nbformat": 4
 },
 "nbformat": 4,
 "nbformat_minor": 2
}
