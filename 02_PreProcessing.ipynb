{
 "cells": [
  {
   "attachments": {},
   "cell_type": "markdown",
   "metadata": {},
   "source": [
    "# Notebook 2 - Lyrics Preprocessing"
   ]
  },
  {
   "cell_type": "code",
   "execution_count": 97,
   "metadata": {},
   "outputs": [],
   "source": [
    "# Needed Packages\n",
    "from collections import Counter\n",
    "import numpy as np\n",
    "import pandas as pd\n",
    "import re"
   ]
  },
  {
   "cell_type": "code",
   "execution_count": 6,
   "metadata": {},
   "outputs": [
    {
     "name": "stdout",
     "output_type": "stream",
     "text": [
      "genre\n",
      "rock       1000\n",
      "rap        1000\n",
      "r-b         984\n",
      "pop         979\n",
      "country     976\n",
      "Name: count, dtype: int64\n",
      "(4939, 5)\n"
     ]
    },
    {
     "data": {
      "text/html": [
       "<div>\n",
       "<style scoped>\n",
       "    .dataframe tbody tr th:only-of-type {\n",
       "        vertical-align: middle;\n",
       "    }\n",
       "\n",
       "    .dataframe tbody tr th {\n",
       "        vertical-align: top;\n",
       "    }\n",
       "\n",
       "    .dataframe thead th {\n",
       "        text-align: right;\n",
       "    }\n",
       "</style>\n",
       "<table border=\"1\" class=\"dataframe\">\n",
       "  <thead>\n",
       "    <tr style=\"text-align: right;\">\n",
       "      <th></th>\n",
       "      <th>Unnamed: 0</th>\n",
       "      <th>artist</th>\n",
       "      <th>title</th>\n",
       "      <th>lyrics</th>\n",
       "      <th>genre</th>\n",
       "    </tr>\n",
       "  </thead>\n",
       "  <tbody>\n",
       "    <tr>\n",
       "      <th>0</th>\n",
       "      <td>0</td>\n",
       "      <td>['Lil Nas X']</td>\n",
       "      <td>Old Town Road (Remix)</td>\n",
       "      <td>Oh, oh-oh\\nOh\\n\\n[Chorus: Billy Ray Cyrus]\\nYe...</td>\n",
       "      <td>country</td>\n",
       "    </tr>\n",
       "    <tr>\n",
       "      <th>1</th>\n",
       "      <td>1</td>\n",
       "      <td>['Taylor Swift']</td>\n",
       "      <td>All Too Well (10 Minute Version) (Taylor's Ver...</td>\n",
       "      <td>I walked through the door with you, the air wa...</td>\n",
       "      <td>country</td>\n",
       "    </tr>\n",
       "    <tr>\n",
       "      <th>2</th>\n",
       "      <td>2</td>\n",
       "      <td>['Taylor Swift']</td>\n",
       "      <td>All Too Well (10 Minute Version) (Taylor's Ver...</td>\n",
       "      <td>I walked through the door with you, the air wa...</td>\n",
       "      <td>country</td>\n",
       "    </tr>\n",
       "    <tr>\n",
       "      <th>3</th>\n",
       "      <td>3</td>\n",
       "      <td>['Lil Nas X']</td>\n",
       "      <td>Old Town Road</td>\n",
       "      <td>Yeah, I'm gonna take my horse to the old town ...</td>\n",
       "      <td>country</td>\n",
       "    </tr>\n",
       "    <tr>\n",
       "      <th>4</th>\n",
       "      <td>4</td>\n",
       "      <td>['Taylor Swift']</td>\n",
       "      <td>Lover</td>\n",
       "      <td>We could leave the Christmas lights up 'til Ja...</td>\n",
       "      <td>country</td>\n",
       "    </tr>\n",
       "  </tbody>\n",
       "</table>\n",
       "</div>"
      ],
      "text/plain": [
       "   Unnamed: 0            artist   \n",
       "0           0     ['Lil Nas X']  \\\n",
       "1           1  ['Taylor Swift']   \n",
       "2           2  ['Taylor Swift']   \n",
       "3           3     ['Lil Nas X']   \n",
       "4           4  ['Taylor Swift']   \n",
       "\n",
       "                                               title   \n",
       "0                              Old Town Road (Remix)  \\\n",
       "1  All Too Well (10 Minute Version) (Taylor's Ver...   \n",
       "2  All Too Well (10 Minute Version) (Taylor's Ver...   \n",
       "3                                      Old Town Road   \n",
       "4                                              Lover   \n",
       "\n",
       "                                              lyrics    genre  \n",
       "0  Oh, oh-oh\\nOh\\n\\n[Chorus: Billy Ray Cyrus]\\nYe...  country  \n",
       "1  I walked through the door with you, the air wa...  country  \n",
       "2  I walked through the door with you, the air wa...  country  \n",
       "3  Yeah, I'm gonna take my horse to the old town ...  country  \n",
       "4  We could leave the Christmas lights up 'til Ja...  country  "
      ]
     },
     "execution_count": 6,
     "metadata": {},
     "output_type": "execute_result"
    }
   ],
   "source": [
    "# Read in compressed CSV file\n",
    "raw_data_df = pd.read_csv(\"data/lyrics.csv.gz\", compression = \"gzip\")\n",
    "\n",
    "# Total Counts of Songs per Genre\n",
    "print(raw_data_df[\"genre\"].value_counts())\n",
    "\n",
    "# Sample Table\n",
    "raw_data_df.head()"
   ]
  },
  {
   "attachments": {},
   "cell_type": "markdown",
   "metadata": {},
   "source": [
    "## Drop Unnecessary Index Column"
   ]
  },
  {
   "cell_type": "code",
   "execution_count": 21,
   "metadata": {},
   "outputs": [],
   "source": [
    "raw_data_df = raw_data_df.drop(raw_data_df.columns[0], axis = 1)"
   ]
  },
  {
   "attachments": {},
   "cell_type": "markdown",
   "metadata": {},
   "source": [
    "## Clean up `artist` names\n",
    "Currently, artist names are formatted as ['_name_']. Artist names should be strings without brackets or quoation marks"
   ]
  },
  {
   "cell_type": "code",
   "execution_count": 35,
   "metadata": {},
   "outputs": [],
   "source": [
    "# Remove preceding [' and ending '] from artist names\n",
    "raw_data_df[\"artist\"] = raw_data_df[\"artist\"].apply(lambda x: x[2:-2])\n",
    "\n",
    "# Some songs with multiple artists are now listed as artist_1_', 'artist_2\n",
    "# Remove ', ' and replace with just ,\n",
    "\n",
    "# NOTE: This transformation keeps apostrophes in-place\n",
    "# Where the apostropher is in the artist's name\n",
    "raw_data_df[\"artist\"] = raw_data_df[\"artist\"].apply(\n",
    "    lambda x: x.replace(\"', '\", \", \")\n",
    ")\n",
    "\n",
    "# Some artist have a randomly inserted backslash in the name\n",
    "# Clean out the backslash\n",
    "raw_data_df[\"artist\"] = raw_data_df[\"artist\"].apply(\n",
    "    lambda x: x.replace(\"\\\\\", \"\")\n",
    ")"
   ]
  },
  {
   "attachments": {},
   "cell_type": "markdown",
   "metadata": {},
   "source": [
    "## Remove multiple versions of the same songs\n",
    "In the scraped data, some songs have the same lyrics due to the fact that they are either remixes or alternative versions of the original song. For example, Taylor's Swift's All to Well appears at least twice, once in its original form and again as a \"Live Version\". To ensure that each record is unique, these duplicate versions are removed. This assumes that remixes only affect the instrumentation, not the lyrics. \n",
    "\n",
    "However, some songs are only represented by their remixed versions. We must also ensure that those songs are not removed."
   ]
  },
  {
   "cell_type": "code",
   "execution_count": 105,
   "metadata": {},
   "outputs": [],
   "source": [
    "# 1. Drop Exact Duplicates\n",
    "nondupe_df = raw_data_df.drop_duplicates(subset = [\"title\"])"
   ]
  },
  {
   "cell_type": "code",
   "execution_count": 107,
   "metadata": {},
   "outputs": [
    {
     "data": {
      "text/plain": [
       "['Old Town Road (Remix)',\n",
       " 'Old Town Road',\n",
       " 'Old Town Road (Young Thug & Mason Ramsey Remix)',\n",
       " 'Old Town Road (Seoul Town Road Remix)',\n",
       " 'Old Town Hoe (Old Town Road Remix)']"
      ]
     },
     "execution_count": 107,
     "metadata": {},
     "output_type": "execute_result"
    }
   ],
   "source": [
    "[x for x in nondupe_df.title.values if \"Remix\" in x]"
   ]
  },
  {
   "cell_type": "code",
   "execution_count": 104,
   "metadata": {},
   "outputs": [],
   "source": [
    "# Delete all occurrences with \"remix\" in the title\n",
    "# ONLY if that song is represented twice \n",
    "# Some songs may only be represented by the \"remix\" - those we want to keep\n",
    "title_counts = Counter([x for x in raw_data_df[\"title\"]])"
   ]
  },
  {
   "cell_type": "code",
   "execution_count": 103,
   "metadata": {},
   "outputs": [
    {
     "data": {
      "text/plain": [
       "['MIC Drop (Steve Aoki Remix)']"
      ]
     },
     "execution_count": 103,
     "metadata": {},
     "output_type": "execute_result"
    }
   ],
   "source": [
    "[x for x in raw_data_df[\"title\"] if \"MIC Drop\" in x]"
   ]
  },
  {
   "cell_type": "code",
   "execution_count": 99,
   "metadata": {},
   "outputs": [
    {
     "data": {
      "text/plain": [
       "Counter({'Old Town Road (Remix)': 3,\n",
       "         'Old Town Road (Young Thug & Mason Ramsey Remix)': 1,\n",
       "         'Lover (Remix)': 1,\n",
       "         'Cruise (Remix)': 1,\n",
       "         'Old Town Road (Seoul Town Road Remix)': 1,\n",
       "         'Like a Farmer (Remix)': 1,\n",
       "         'Old Town Hoe (Old Town Road Remix)': 1,\n",
       "         'Gasoline (Remix)': 1,\n",
       "         'Lost in the Middle of Nowhere (Spanish Remix)': 1,\n",
       "         'The Bones (Remix)': 1,\n",
       "         'Daddy Issues (Remix)': 3,\n",
       "         'Radioactive (Remix)': 1,\n",
       "         'The Night We Met (Remix)': 1,\n",
       "         'POWER (Remix)': 1,\n",
       "         'Despacito (Remix)': 1,\n",
       "         'Girls Like You (Remix)': 2,\n",
       "         'Finesse (Remix)': 2,\n",
       "         'Te Boté (Remix)': 1,\n",
       "         '***Flawless (Remix)': 3,\n",
       "         'Luis Fonsi & Daddy Yankee - Despacito (Remix) ft. Justin Bieber (English Translation)': 1,\n",
       "         'MIC Drop (Steve Aoki Remix)': 1,\n",
       "         'Reggaetón Lento (Remix)': 1,\n",
       "         'Bad Blood (Remix)': 2,\n",
       "         'Say So (Remix)': 2,\n",
       "         'No Me Conoce (Remix)': 1,\n",
       "         'Toda (Remix)': 1,\n",
       "         'Dream - Mask (Official Sus Remix)': 1,\n",
       "         '34+35 (Remix)': 2,\n",
       "         'Save Your Tears (Remix)': 2,\n",
       "         'Drunk in Love (Remix)': 2,\n",
       "         'Girls Need Love (Remix)': 1,\n",
       "         'Bad (Remix)': 1,\n",
       "         'Drunk In Love (Remix)': 1,\n",
       "         'Sweeterman (Remix)': 1,\n",
       "         'The Hills (Eminem Remix)': 1,\n",
       "         'Beautiful (Remix)': 1,\n",
       "         'Havana (Remix)': 1,\n",
       "         'Ignition (Remix)': 1,\n",
       "         'One More Chance / Stay With Me (Remix)': 1,\n",
       "         \"Tha Crossroads (D.J. U-Neek's Mo Thug Remix)\": 1,\n",
       "         'Deuces (Remix)': 1,\n",
       "         \"You're Mines Still (Remix)\": 1,\n",
       "         'El Farsante (Remix)': 1,\n",
       "         'No Love (Remix)': 1,\n",
       "         'Diamonds (Remix)': 1,\n",
       "         'Wanna Know (Remix)': 1,\n",
       "         'Odd Look (The Weeknd Remix)': 1,\n",
       "         'Die For You (Remix)': 1,\n",
       "         'All I Need (Remix)': 1,\n",
       "         'Ahora Dice (Real Hasta La Muerte Remix)': 1,\n",
       "         'Pa Mí (Remix)': 1,\n",
       "         'Plain Jane (Remix)': 1,\n",
       "         'Or Nah (Remix)': 1,\n",
       "         'Versace (Remix)': 1,\n",
       "         'My Way (Remix)': 1,\n",
       "         'WHATS POPPIN (Remix)': 1,\n",
       "         'Body (Remix)': 1,\n",
       "         'Cristal & МОЁТ (Remix)': 1,\n",
       "         'Dance (A$$) (Remix)': 1,\n",
       "         'Boss Ass Bitch (Remix)': 1,\n",
       "         'Said Sum (Remix)': 1,\n",
       "         'Thotiana (Cardi B Remix)': 1,\n",
       "         \"Bitch, Don't Kill My Vibe (Remix)\": 1,\n",
       "         'Savage Remix': 1,\n",
       "         'Down in the DM (Remix)': 1,\n",
       "         'Keisha & Becky Remix': 1})"
      ]
     },
     "execution_count": 99,
     "metadata": {},
     "output_type": "execute_result"
    }
   ],
   "source": [
    "title_counts"
   ]
  },
  {
   "cell_type": "code",
   "execution_count": 91,
   "metadata": {},
   "outputs": [
    {
     "data": {
      "text/plain": [
       "['Old Town Road (Remix)',\n",
       " 'Old Town Road (Young Thug & Mason Ramsey Remix)',\n",
       " 'Lover (Remix)',\n",
       " 'Cruise (Remix)',\n",
       " 'Old Town Road (Seoul Town Road Remix)',\n",
       " 'Like a Farmer (Remix)',\n",
       " 'Old Town Hoe (Old Town Road Remix)',\n",
       " 'Gasoline (Remix)',\n",
       " 'Lost in the Middle of Nowhere (Spanish Remix)',\n",
       " 'The Bones (Remix)',\n",
       " 'Daddy Issues (Remix)',\n",
       " 'Radioactive (Remix)',\n",
       " 'The Night We Met (Remix)',\n",
       " 'POWER (Remix)',\n",
       " 'Despacito (Remix)',\n",
       " 'Old Town Road (Remix)',\n",
       " 'Girls Like You (Remix)',\n",
       " 'Finesse (Remix)',\n",
       " 'Te Boté (Remix)',\n",
       " '***Flawless (Remix)',\n",
       " 'Luis Fonsi & Daddy Yankee - Despacito (Remix) ft. Justin Bieber (English Translation)',\n",
       " 'MIC Drop (Steve Aoki Remix)',\n",
       " 'Reggaetón Lento (Remix)',\n",
       " 'Bad Blood (Remix)',\n",
       " 'Say So (Remix)',\n",
       " 'No Me Conoce (Remix)',\n",
       " 'Daddy Issues (Remix)',\n",
       " 'Toda (Remix)',\n",
       " 'Dream - Mask (Official Sus Remix)',\n",
       " '34+35 (Remix)',\n",
       " 'Save Your Tears (Remix)',\n",
       " 'Drunk in Love (Remix)',\n",
       " '***Flawless (Remix)',\n",
       " 'Girls Need Love (Remix)',\n",
       " 'Daddy Issues (Remix)',\n",
       " 'Bad (Remix)',\n",
       " 'Drunk In Love (Remix)',\n",
       " 'Sweeterman (Remix)',\n",
       " 'The Hills (Eminem Remix)',\n",
       " '34+35 (Remix)',\n",
       " 'Save Your Tears (Remix)',\n",
       " 'Drunk in Love (Remix)',\n",
       " 'Beautiful (Remix)',\n",
       " 'Havana (Remix)',\n",
       " 'Ignition (Remix)',\n",
       " 'One More Chance / Stay With Me (Remix)',\n",
       " \"Tha Crossroads (D.J. U-Neek's Mo Thug Remix)\",\n",
       " 'Deuces (Remix)',\n",
       " \"You're Mines Still (Remix)\",\n",
       " 'El Farsante (Remix)',\n",
       " 'No Love (Remix)',\n",
       " 'Diamonds (Remix)',\n",
       " 'Wanna Know (Remix)',\n",
       " 'Odd Look (The Weeknd Remix)',\n",
       " 'Die For You (Remix)',\n",
       " 'All I Need (Remix)',\n",
       " 'Ahora Dice (Real Hasta La Muerte Remix)',\n",
       " 'Pa Mí (Remix)',\n",
       " 'Old Town Road (Remix)',\n",
       " 'Girls Like You (Remix)',\n",
       " 'Plain Jane (Remix)',\n",
       " 'Or Nah (Remix)',\n",
       " 'Versace (Remix)',\n",
       " 'Finesse (Remix)',\n",
       " 'My Way (Remix)',\n",
       " 'WHATS POPPIN (Remix)',\n",
       " '***Flawless (Remix)',\n",
       " 'Body (Remix)',\n",
       " 'Cristal & МОЁТ (Remix)',\n",
       " 'Dance (A$$) (Remix)',\n",
       " 'Boss Ass Bitch (Remix)',\n",
       " 'Said Sum (Remix)',\n",
       " 'Thotiana (Cardi B Remix)',\n",
       " \"Bitch, Don't Kill My Vibe (Remix)\",\n",
       " 'Savage Remix',\n",
       " 'Bad Blood (Remix)',\n",
       " 'Down in the DM (Remix)',\n",
       " 'Keisha & Becky Remix',\n",
       " 'Say So (Remix)']"
      ]
     },
     "execution_count": 91,
     "metadata": {},
     "output_type": "execute_result"
    }
   ],
   "source": [
    "[x for x in raw_data_df.title.values if \"Remix\" in x]"
   ]
  },
  {
   "attachments": {},
   "cell_type": "markdown",
   "metadata": {},
   "source": [
    "## Lyric Preprocessing\n",
    "Preprocessing Steps:\n",
    "- Lowercasing\n",
    "- ...\n",
    "- ..."
   ]
  }
 ],
 "metadata": {
  "kernelspec": {
   "display_name": "Python 3",
   "language": "python",
   "name": "python3"
  },
  "language_info": {
   "codemirror_mode": {
    "name": "ipython",
    "version": 3
   },
   "file_extension": ".py",
   "mimetype": "text/x-python",
   "name": "python",
   "nbconvert_exporter": "python",
   "pygments_lexer": "ipython3",
   "version": "3.11.1"
  },
  "orig_nbformat": 4
 },
 "nbformat": 4,
 "nbformat_minor": 2
}
