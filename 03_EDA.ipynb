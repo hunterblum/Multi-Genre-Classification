{
 "cells": [
  {
   "attachments": {},
   "cell_type": "markdown",
   "metadata": {},
   "source": [
    "# Notebook 3 - Exploratory Data Analysis (EDA)\n",
    "This notebook will perform EDA on the cleaned, tokenized, and normalized text to gain further insights into the lyrics pulled from the Genius API, such as descriptive statistics."
   ]
  },
  {
   "cell_type": "code",
   "execution_count": null,
   "metadata": {
    "vscode": {
     "languageId": "plaintext"
    }
   },
   "outputs": [],
   "source": [
    "# Needed Packages\n",
    "import pandas as pd"
   ]
  },
  {
   "cell_type": "code",
   "execution_count": null,
   "metadata": {
    "vscode": {
     "languageId": "plaintext"
    }
   },
   "outputs": [],
   "source": [
    "# Read in preprocessed data\n",
    "preproc_df = pd.read_csv(\"data/genre_prepped.csv.gz\", compression = \"gzip\")\n",
    "\n",
    "# Sample Table\n",
    "preproc_df.head(5)"
   ]
  }
 ],
 "metadata": {
  "language_info": {
   "name": "python"
  },
  "orig_nbformat": 4
 },
 "nbformat": 4,
 "nbformat_minor": 2
}
